{
 "cells": [
  {
   "cell_type": "markdown",
   "metadata": {},
   "source": [
    "# The Challenge\n",
    "The sinking of the Titanic is one of the most infamous shipwrecks in history.\n",
    "\n",
    "On April 15, 1912, during her maiden voyage, the widely considered “unsinkable” RMS Titanic sank after colliding with an iceberg. Unfortunately, there weren’t enough lifeboats for everyone onboard, resulting in the death of 1502 out of 2224 passengers and crew.\n",
    "\n",
    "While there was some element of luck involved in surviving, it seems some groups of people were more likely to survive than others.\n",
    "\n",
    "In this challenge, we ask you to build a predictive model that answers the question: “what sorts of people were more likely to survive?” using passenger data (ie name, age, gender, socio-economic class, etc)."
   ]
  },
  {
   "cell_type": "markdown",
   "metadata": {},
   "source": [
    "The data has been split into two groups:\n",
    "\n",
    "- training set (train.csv)\n",
    "- test set (test.csv)\n",
    "\n",
    "The training set should be used to build your machine learning models. For the training set, we provide the outcome (also known as the “ground truth”) for each passenger. Your model will be based on “features” like passengers’ gender and class. You can also use feature engineering to create new features.\n",
    "\n",
    "The test set should be used to see how well your model performs on unseen data. For the test set, we do not provide the ground truth for each passenger. It is your job to predict these outcomes. For each passenger in the test set, use the model you trained to predict whether or not they survived the sinking of the Titanic.\n",
    "\n",
    "We also include gender_submission.csv, a set of predictions that assume all and only female passengers survive, as an example of what a submission file should look like."
   ]
  },
  {
   "cell_type": "markdown",
   "metadata": {},
   "source": [
    "- read data"
   ]
  },
  {
   "cell_type": "code",
   "execution_count": 72,
   "metadata": {},
   "outputs": [],
   "source": [
    "import os\n",
    "from pathlib import Path\n",
    "import pandas as pd\n",
    "import numpy as np"
   ]
  },
  {
   "cell_type": "code",
   "execution_count": 73,
   "metadata": {},
   "outputs": [],
   "source": [
    "root = './'"
   ]
  },
  {
   "cell_type": "markdown",
   "metadata": {},
   "source": [
    "- list directores in the root path"
   ]
  },
  {
   "cell_type": "code",
   "execution_count": 74,
   "metadata": {},
   "outputs": [
    {
     "data": {
      "text/plain": [
       "['titanic-catboost.ipynb',\n",
       " 'titanic.ipynb',\n",
       " 'submission.csv',\n",
       " 'titanic-xgb.ipynb',\n",
       " 'catboost_info',\n",
       " '.ipynb_checkpoints',\n",
       " 'input',\n",
       " 'Training-titanic.ipynb',\n",
       " '.jovianrc']"
      ]
     },
     "execution_count": 74,
     "metadata": {},
     "output_type": "execute_result"
    }
   ],
   "source": [
    "os.listdir(root)"
   ]
  },
  {
   "cell_type": "code",
   "execution_count": 75,
   "metadata": {},
   "outputs": [],
   "source": [
    "root = Path(\"./input/\")"
   ]
  },
  {
   "cell_type": "markdown",
   "metadata": {},
   "source": [
    "- Display file in path(input)"
   ]
  },
  {
   "cell_type": "code",
   "execution_count": 76,
   "metadata": {},
   "outputs": [
    {
     "data": {
      "text/plain": [
       "['test.csv', 'gender_submission.csv', 'train.csv']"
      ]
     },
     "execution_count": 76,
     "metadata": {},
     "output_type": "execute_result"
    }
   ],
   "source": [
    "os.listdir(root)"
   ]
  },
  {
   "cell_type": "markdown",
   "metadata": {},
   "source": [
    "- Impelement load function"
   ]
  },
  {
   "cell_type": "code",
   "execution_count": 6,
   "metadata": {},
   "outputs": [],
   "source": [
    "def load_data(root, file_name):\n",
    "    return pd.read_csv(root/file_name)"
   ]
  },
  {
   "cell_type": "code",
   "execution_count": 7,
   "metadata": {},
   "outputs": [],
   "source": [
    "test = load_data(root, \"test.csv\")\n",
    "train = load_data(root, \"train.csv\")\n",
    "submission = load_data(root, \"gender_submission.csv\")"
   ]
  },
  {
   "cell_type": "markdown",
   "metadata": {},
   "source": [
    "- Display train data"
   ]
  },
  {
   "cell_type": "code",
   "execution_count": 86,
   "metadata": {},
   "outputs": [
    {
     "data": {
      "text/html": [
       "<div>\n",
       "<style scoped>\n",
       "    .dataframe tbody tr th:only-of-type {\n",
       "        vertical-align: middle;\n",
       "    }\n",
       "\n",
       "    .dataframe tbody tr th {\n",
       "        vertical-align: top;\n",
       "    }\n",
       "\n",
       "    .dataframe thead th {\n",
       "        text-align: right;\n",
       "    }\n",
       "</style>\n",
       "<table border=\"1\" class=\"dataframe\">\n",
       "  <thead>\n",
       "    <tr style=\"text-align: right;\">\n",
       "      <th></th>\n",
       "      <th>PassengerId</th>\n",
       "      <th>Survived</th>\n",
       "      <th>Pclass</th>\n",
       "      <th>Name</th>\n",
       "      <th>Sex</th>\n",
       "      <th>Age</th>\n",
       "      <th>SibSp</th>\n",
       "      <th>Parch</th>\n",
       "      <th>Ticket</th>\n",
       "      <th>Fare</th>\n",
       "      <th>Cabin</th>\n",
       "      <th>Embarked</th>\n",
       "    </tr>\n",
       "  </thead>\n",
       "  <tbody>\n",
       "    <tr>\n",
       "      <th>0</th>\n",
       "      <td>1</td>\n",
       "      <td>0</td>\n",
       "      <td>3</td>\n",
       "      <td>Braund, Mr. Owen Harris</td>\n",
       "      <td>male</td>\n",
       "      <td>22.0</td>\n",
       "      <td>1</td>\n",
       "      <td>0</td>\n",
       "      <td>A/5 21171</td>\n",
       "      <td>7.2500</td>\n",
       "      <td>NaN</td>\n",
       "      <td>S</td>\n",
       "    </tr>\n",
       "    <tr>\n",
       "      <th>1</th>\n",
       "      <td>2</td>\n",
       "      <td>1</td>\n",
       "      <td>1</td>\n",
       "      <td>Cumings, Mrs. John Bradley (Florence Briggs Th...</td>\n",
       "      <td>female</td>\n",
       "      <td>38.0</td>\n",
       "      <td>1</td>\n",
       "      <td>0</td>\n",
       "      <td>PC 17599</td>\n",
       "      <td>71.2833</td>\n",
       "      <td>C85</td>\n",
       "      <td>C</td>\n",
       "    </tr>\n",
       "    <tr>\n",
       "      <th>2</th>\n",
       "      <td>3</td>\n",
       "      <td>1</td>\n",
       "      <td>3</td>\n",
       "      <td>Heikkinen, Miss. Laina</td>\n",
       "      <td>female</td>\n",
       "      <td>26.0</td>\n",
       "      <td>0</td>\n",
       "      <td>0</td>\n",
       "      <td>STON/O2. 3101282</td>\n",
       "      <td>7.9250</td>\n",
       "      <td>NaN</td>\n",
       "      <td>S</td>\n",
       "    </tr>\n",
       "    <tr>\n",
       "      <th>3</th>\n",
       "      <td>4</td>\n",
       "      <td>1</td>\n",
       "      <td>1</td>\n",
       "      <td>Futrelle, Mrs. Jacques Heath (Lily May Peel)</td>\n",
       "      <td>female</td>\n",
       "      <td>35.0</td>\n",
       "      <td>1</td>\n",
       "      <td>0</td>\n",
       "      <td>113803</td>\n",
       "      <td>53.1000</td>\n",
       "      <td>C123</td>\n",
       "      <td>S</td>\n",
       "    </tr>\n",
       "    <tr>\n",
       "      <th>4</th>\n",
       "      <td>5</td>\n",
       "      <td>0</td>\n",
       "      <td>3</td>\n",
       "      <td>Allen, Mr. William Henry</td>\n",
       "      <td>male</td>\n",
       "      <td>35.0</td>\n",
       "      <td>0</td>\n",
       "      <td>0</td>\n",
       "      <td>373450</td>\n",
       "      <td>8.0500</td>\n",
       "      <td>NaN</td>\n",
       "      <td>S</td>\n",
       "    </tr>\n",
       "  </tbody>\n",
       "</table>\n",
       "</div>"
      ],
      "text/plain": [
       "   PassengerId  Survived  Pclass  \\\n",
       "0            1         0       3   \n",
       "1            2         1       1   \n",
       "2            3         1       3   \n",
       "3            4         1       1   \n",
       "4            5         0       3   \n",
       "\n",
       "                                                Name     Sex   Age  SibSp  \\\n",
       "0                            Braund, Mr. Owen Harris    male  22.0      1   \n",
       "1  Cumings, Mrs. John Bradley (Florence Briggs Th...  female  38.0      1   \n",
       "2                             Heikkinen, Miss. Laina  female  26.0      0   \n",
       "3       Futrelle, Mrs. Jacques Heath (Lily May Peel)  female  35.0      1   \n",
       "4                           Allen, Mr. William Henry    male  35.0      0   \n",
       "\n",
       "   Parch            Ticket     Fare Cabin Embarked  \n",
       "0      0         A/5 21171   7.2500   NaN        S  \n",
       "1      0          PC 17599  71.2833   C85        C  \n",
       "2      0  STON/O2. 3101282   7.9250   NaN        S  \n",
       "3      0            113803  53.1000  C123        S  \n",
       "4      0            373450   8.0500   NaN        S  "
      ]
     },
     "execution_count": 86,
     "metadata": {},
     "output_type": "execute_result"
    }
   ],
   "source": [
    "train.head()"
   ]
  },
  {
   "cell_type": "code",
   "execution_count": 9,
   "metadata": {},
   "outputs": [
    {
     "data": {
      "text/plain": [
       "['PassengerId',\n",
       " 'Survived',\n",
       " 'Pclass',\n",
       " 'Name',\n",
       " 'Sex',\n",
       " 'Age',\n",
       " 'SibSp',\n",
       " 'Parch',\n",
       " 'Ticket',\n",
       " 'Fare',\n",
       " 'Cabin',\n",
       " 'Embarked']"
      ]
     },
     "execution_count": 9,
     "metadata": {},
     "output_type": "execute_result"
    }
   ],
   "source": [
    "train.columns.tolist()"
   ]
  },
  {
   "cell_type": "markdown",
   "metadata": {},
   "source": [
    "| Variable |\tDefinition |\tKey |\n",
    "\t|----------- \t|--------- \t|---------- \t| \n",
    "| survival\t\t| Survival\t\t| 0 = No, 1 = Yes\t| \n",
    "| pclass\t\t| Ticket class\t\t| 1 = 1st, 2 = 2nd, 3 = 3rd\t| \n",
    "| sex\t\t| Sex\t| \t\t| \n",
    "| Age\t\t| Age in years\t\t\t| | \n",
    "| sibsp\t\t| # of siblings / spouses aboard the Titanic\t| \t\t| \n",
    "| parch\t\t| # of parents / children aboard the Titanic\t\t| \t| \n",
    "| ticket\t\t| Ticket number\t\t| \t| \n",
    "| fare\t\t| Passenger fare\t\t| \t| \n",
    "| cabin\t| \tCabin number\t\t| \t| \n",
    "| embarked\t| Port of Embarkation\t\t| C = Cherbourg, Q = Queenstown, S = Southampton\t| "
   ]
  },
  {
   "cell_type": "markdown",
   "metadata": {},
   "source": [
    "**Variable Notes**\n",
    "\n",
    "pclass: A proxy for socio-economic status (SES)<br>\n",
    "1st = Upper<br>\n",
    "2nd = Middle<br>\n",
    "3rd = Lower\n",
    "\n",
    "age: Age is fractional if less than 1. If the age is estimated, is it in the form of xx.5\n",
    "\n",
    "sibsp: The dataset defines family relations in this way...<br>\n",
    "Sibling = brother, sister, stepbrother, stepsister<br>\n",
    "Spouse = husband, wife (mistresses and fiancés were ignored)\n",
    "\n",
    "parch: The dataset defines family relations in this way...<br>\n",
    "Parent = mother, father<br>\n",
    "Child = daughter, son, stepdaughter, stepson<br>\n",
    "Some children travelled only with a nanny, therefore parch=0 for them."
   ]
  },
  {
   "cell_type": "markdown",
   "metadata": {},
   "source": [
    "- Data Shapes"
   ]
  },
  {
   "cell_type": "code",
   "execution_count": 10,
   "metadata": {},
   "outputs": [
    {
     "name": "stdout",
     "output_type": "stream",
     "text": [
      "# of rows: 891\n",
      "# of columns: 12\n"
     ]
    }
   ],
   "source": [
    "print(\"# of rows: {}\\n# of columns: {}\".format(*train.shape))"
   ]
  },
  {
   "cell_type": "markdown",
   "metadata": {},
   "source": [
    "# Data Exploration"
   ]
  },
  {
   "cell_type": "markdown",
   "metadata": {},
   "source": [
    "- Data types"
   ]
  },
  {
   "cell_type": "code",
   "execution_count": 11,
   "metadata": {},
   "outputs": [
    {
     "data": {
      "text/plain": [
       "PassengerId      int64\n",
       "Survived         int64\n",
       "Pclass           int64\n",
       "Name            object\n",
       "Sex             object\n",
       "Age            float64\n",
       "SibSp            int64\n",
       "Parch            int64\n",
       "Ticket          object\n",
       "Fare           float64\n",
       "Cabin           object\n",
       "Embarked        object\n",
       "dtype: object"
      ]
     },
     "execution_count": 11,
     "metadata": {},
     "output_type": "execute_result"
    }
   ],
   "source": [
    "train.dtypes"
   ]
  },
  {
   "cell_type": "markdown",
   "metadata": {},
   "source": [
    "- Missing values"
   ]
  },
  {
   "cell_type": "code",
   "execution_count": 90,
   "metadata": {},
   "outputs": [
    {
     "data": {
      "text/plain": [
       "PassengerId      0\n",
       "Survived         0\n",
       "Pclass           0\n",
       "Name             0\n",
       "Sex              0\n",
       "Age            177\n",
       "SibSp            0\n",
       "Parch            0\n",
       "Ticket           0\n",
       "Fare             0\n",
       "Cabin          687\n",
       "Embarked         2\n",
       "dtype: int64"
      ]
     },
     "execution_count": 90,
     "metadata": {},
     "output_type": "execute_result"
    }
   ],
   "source": [
    "train.isna().sum()"
   ]
  },
  {
   "cell_type": "code",
   "execution_count": 13,
   "metadata": {},
   "outputs": [
    {
     "data": {
      "text/plain": [
       "PassengerId      0\n",
       "Pclass           0\n",
       "Name             0\n",
       "Sex              0\n",
       "Age             86\n",
       "SibSp            0\n",
       "Parch            0\n",
       "Ticket           0\n",
       "Fare             1\n",
       "Cabin          327\n",
       "Embarked         0\n",
       "dtype: int64"
      ]
     },
     "execution_count": 13,
     "metadata": {},
     "output_type": "execute_result"
    }
   ],
   "source": [
    "test.isna().sum()"
   ]
  },
  {
   "cell_type": "code",
   "execution_count": 14,
   "metadata": {},
   "outputs": [
    {
     "name": "stdout",
     "output_type": "stream",
     "text": [
      "Cabin 'Train File' missing data precentage: 0.77%\n",
      "Cabin 'Test File' missing data precentage: 0.78%\n"
     ]
    }
   ],
   "source": [
    "print(f\"Cabin 'Train File' missing data precentage: {train.Cabin.isna().sum()/train.shape[0]:0.2f}%\")\n",
    "print(f\"Cabin 'Test File' missing data precentage: {test.Cabin.isna().sum()/test.shape[0]:0.2f}%\")"
   ]
  },
  {
   "cell_type": "markdown",
   "metadata": {},
   "source": [
    "- Visualization"
   ]
  },
  {
   "cell_type": "code",
   "execution_count": 15,
   "metadata": {},
   "outputs": [],
   "source": [
    "import seaborn as sns\n",
    "from matplotlib import pyplot as plt\n",
    "%matplotlib inline\n"
   ]
  },
  {
   "cell_type": "code",
   "execution_count": 93,
   "metadata": {},
   "outputs": [
    {
     "data": {
      "image/png": "[encoded data removed]",
      "text/plain": [
       "<Figure size 360x432 with 1 Axes>"
      ]
     },
     "metadata": {},
     "output_type": "display_data"
    }
   ],
   "source": [
    "with sns.axes_style(style=\"darkgrid\"):\n",
    "    plt.figure(figsize=(5, 6))\n",
    "    sns.countplot(data=train, x=\"Survived\")\n"
   ]
  },
  {
   "cell_type": "markdown",
   "metadata": {},
   "source": [
    "- Percentage of Survived"
   ]
  },
  {
   "cell_type": "code",
   "execution_count": 17,
   "metadata": {},
   "outputs": [
    {
     "data": {
      "text/plain": [
       "0    0.616162\n",
       "1    0.383838\n",
       "Name: Survived, dtype: float64"
      ]
     },
     "execution_count": 17,
     "metadata": {},
     "output_type": "execute_result"
    }
   ],
   "source": [
    "train.Survived.value_counts(normalize=True)"
   ]
  },
  {
   "cell_type": "markdown",
   "metadata": {},
   "source": [
    "- Number of survived people in each sex "
   ]
  },
  {
   "cell_type": "code",
   "execution_count": 18,
   "metadata": {},
   "outputs": [
    {
     "data": {
      "image/png": "[encoded data removed]",
      "text/plain": [
       "<Figure size 432x504 with 1 Axes>"
      ]
     },
     "metadata": {},
     "output_type": "display_data"
    }
   ],
   "source": [
    "with sns.axes_style(style=\"darkgrid\"):\n",
    "    plt.figure(figsize=(6, 7))\n",
    "    sns.countplot(data=train, x=\"Survived\", hue=\"Sex\", palette=\"cubehelix\")\n"
   ]
  },
  {
   "cell_type": "markdown",
   "metadata": {},
   "source": [
    "- Number of survived people in each Class"
   ]
  },
  {
   "cell_type": "code",
   "execution_count": 19,
   "metadata": {},
   "outputs": [
    {
     "data": {
      "image/png": "[encoded data removed]",
      "text/plain": [
       "<Figure size 648x504 with 1 Axes>"
      ]
     },
     "metadata": {},
     "output_type": "display_data"
    }
   ],
   "source": [
    "with sns.axes_style(style=\"darkgrid\"):\n",
    "    plt.figure(figsize=(9, 7))\n",
    "    sns.countplot(data=train, x=\"Survived\", hue=\"Pclass\", palette=\"cubehelix\")\n"
   ]
  },
  {
   "cell_type": "markdown",
   "metadata": {},
   "source": [
    "- Age distribution"
   ]
  },
  {
   "cell_type": "code",
   "execution_count": 101,
   "metadata": {},
   "outputs": [
    {
     "data": {
      "image/png": "[encoded data removed]",
      "text/plain": [
       "<Figure size 576x576 with 1 Axes>"
      ]
     },
     "metadata": {},
     "output_type": "display_data"
    }
   ],
   "source": [
    "with sns.axes_style(style=\"darkgrid\"):\n",
    "    sns.displot(data=train, x=\"Age\", bins=50, kde=True, height= 8)"
   ]
  },
  {
   "cell_type": "markdown",
   "metadata": {},
   "source": [
    "- Age distribution, with survived"
   ]
  },
  {
   "cell_type": "code",
   "execution_count": 103,
   "metadata": {},
   "outputs": [
    {
     "data": {
      "image/png": "[encoded data removed]",
      "text/plain": [
       "<Figure size 623x576 with 1 Axes>"
      ]
     },
     "metadata": {},
     "output_type": "display_data"
    }
   ],
   "source": [
    "with sns.axes_style(style=\"darkgrid\"):\n",
    "    sns.displot(data=train, x=\"Age\", hue=\"Survived\", bins=50, kde=True, height= 8)\n"
   ]
  },
  {
   "cell_type": "code",
   "execution_count": 104,
   "metadata": {},
   "outputs": [
    {
     "data": {
      "image/png": "[encoded data removed]",
      "text/plain": [
       "<Figure size 642.125x576 with 1 Axes>"
      ]
     },
     "metadata": {},
     "output_type": "display_data"
    }
   ],
   "source": [
    "with sns.axes_style(style=\"darkgrid\"):\n",
    "    sns.displot(data=train, x=\"Age\", hue=\"Sex\", bins=50, kde=True, height= 8, palette=\"cubehelix\")\n"
   ]
  },
  {
   "cell_type": "markdown",
   "metadata": {},
   "source": [
    "- Column, Row = survived, sex"
   ]
  },
  {
   "cell_type": "code",
   "execution_count": 23,
   "metadata": {},
   "outputs": [
    {
     "data": {
      "image/png": "[encoded data removed]",
      "text/plain": [
       "<Figure size 576x576 with 4 Axes>"
      ]
     },
     "metadata": {},
     "output_type": "display_data"
    }
   ],
   "source": [
    "with sns.axes_style(\"white\"):\n",
    "    grid = sns.FacetGrid(data = train, row = \"Sex\", col = \"Survived\", \n",
    "                         margin_titles=True, height=4)\n",
    "    grid.map(sns.histplot, \"Age\", bins=50);"
   ]
  },
  {
   "cell_type": "markdown",
   "metadata": {},
   "source": [
    "- Column, Row = Pclass, survived"
   ]
  },
  {
   "cell_type": "code",
   "execution_count": 24,
   "metadata": {},
   "outputs": [
    {
     "data": {
      "image/png": "[encoded data removed]",
      "text/plain": [
       "<Figure size 864x576 with 6 Axes>"
      ]
     },
     "metadata": {},
     "output_type": "display_data"
    }
   ],
   "source": [
    "with sns.axes_style(\"white\"):\n",
    "    grid = sns.FacetGrid(data = train, row = \"Survived\", col = \"Pclass\", \n",
    "                         margin_titles=True, height=4)\n",
    "    grid.map(sns.histplot, \"Age\", bins=50);"
   ]
  },
  {
   "cell_type": "markdown",
   "metadata": {},
   "source": [
    "# Data Preprocessing"
   ]
  },
  {
   "cell_type": "markdown",
   "metadata": {},
   "source": [
    "- Take a dataset copy"
   ]
  },
  {
   "cell_type": "code",
   "execution_count": 27,
   "metadata": {},
   "outputs": [],
   "source": [
    "df_train = train.copy()\n",
    "df_test = test.copy()"
   ]
  },
  {
   "cell_type": "markdown",
   "metadata": {},
   "source": [
    "- Remove unimportant data"
   ]
  },
  {
   "cell_type": "code",
   "execution_count": 28,
   "metadata": {},
   "outputs": [],
   "source": [
    "df_train.drop(columns = [\"PassengerId\", \"Cabin\", \"Name\", \"Ticket\"], axis=1, inplace=True)\n",
    "df_test.drop(columns = [\"PassengerId\", \"Cabin\", \"Name\", \"Ticket\"], axis=1, inplace=True)"
   ]
  },
  {
   "cell_type": "code",
   "execution_count": 29,
   "metadata": {
    "scrolled": false
   },
   "outputs": [
    {
     "data": {
      "text/html": [
       "<div>\n",
       "<style scoped>\n",
       "    .dataframe tbody tr th:only-of-type {\n",
       "        vertical-align: middle;\n",
       "    }\n",
       "\n",
       "    .dataframe tbody tr th {\n",
       "        vertical-align: top;\n",
       "    }\n",
       "\n",
       "    .dataframe thead th {\n",
       "        text-align: right;\n",
       "    }\n",
       "</style>\n",
       "<table border=\"1\" class=\"dataframe\">\n",
       "  <thead>\n",
       "    <tr style=\"text-align: right;\">\n",
       "      <th></th>\n",
       "      <th>Survived</th>\n",
       "      <th>Pclass</th>\n",
       "      <th>Sex</th>\n",
       "      <th>Age</th>\n",
       "      <th>SibSp</th>\n",
       "      <th>Parch</th>\n",
       "      <th>Fare</th>\n",
       "      <th>Embarked</th>\n",
       "    </tr>\n",
       "  </thead>\n",
       "  <tbody>\n",
       "    <tr>\n",
       "      <th>0</th>\n",
       "      <td>0</td>\n",
       "      <td>3</td>\n",
       "      <td>male</td>\n",
       "      <td>22.0</td>\n",
       "      <td>1</td>\n",
       "      <td>0</td>\n",
       "      <td>7.2500</td>\n",
       "      <td>S</td>\n",
       "    </tr>\n",
       "    <tr>\n",
       "      <th>1</th>\n",
       "      <td>1</td>\n",
       "      <td>1</td>\n",
       "      <td>female</td>\n",
       "      <td>38.0</td>\n",
       "      <td>1</td>\n",
       "      <td>0</td>\n",
       "      <td>71.2833</td>\n",
       "      <td>C</td>\n",
       "    </tr>\n",
       "    <tr>\n",
       "      <th>2</th>\n",
       "      <td>1</td>\n",
       "      <td>3</td>\n",
       "      <td>female</td>\n",
       "      <td>26.0</td>\n",
       "      <td>0</td>\n",
       "      <td>0</td>\n",
       "      <td>7.9250</td>\n",
       "      <td>S</td>\n",
       "    </tr>\n",
       "    <tr>\n",
       "      <th>3</th>\n",
       "      <td>1</td>\n",
       "      <td>1</td>\n",
       "      <td>female</td>\n",
       "      <td>35.0</td>\n",
       "      <td>1</td>\n",
       "      <td>0</td>\n",
       "      <td>53.1000</td>\n",
       "      <td>S</td>\n",
       "    </tr>\n",
       "    <tr>\n",
       "      <th>4</th>\n",
       "      <td>0</td>\n",
       "      <td>3</td>\n",
       "      <td>male</td>\n",
       "      <td>35.0</td>\n",
       "      <td>0</td>\n",
       "      <td>0</td>\n",
       "      <td>8.0500</td>\n",
       "      <td>S</td>\n",
       "    </tr>\n",
       "  </tbody>\n",
       "</table>\n",
       "</div>"
      ],
      "text/plain": [
       "   Survived  Pclass     Sex   Age  SibSp  Parch     Fare Embarked\n",
       "0         0       3    male  22.0      1      0   7.2500        S\n",
       "1         1       1  female  38.0      1      0  71.2833        C\n",
       "2         1       3  female  26.0      0      0   7.9250        S\n",
       "3         1       1  female  35.0      1      0  53.1000        S\n",
       "4         0       3    male  35.0      0      0   8.0500        S"
      ]
     },
     "execution_count": 29,
     "metadata": {},
     "output_type": "execute_result"
    }
   ],
   "source": [
    "df_train.head()"
   ]
  },
  {
   "cell_type": "markdown",
   "metadata": {},
   "source": [
    "- Data description"
   ]
  },
  {
   "cell_type": "code",
   "execution_count": 113,
   "metadata": {},
   "outputs": [
    {
     "data": {
      "text/html": [
       "<div>\n",
       "<style scoped>\n",
       "    .dataframe tbody tr th:only-of-type {\n",
       "        vertical-align: middle;\n",
       "    }\n",
       "\n",
       "    .dataframe tbody tr th {\n",
       "        vertical-align: top;\n",
       "    }\n",
       "\n",
       "    .dataframe thead th {\n",
       "        text-align: right;\n",
       "    }\n",
       "</style>\n",
       "<table border=\"1\" class=\"dataframe\">\n",
       "  <thead>\n",
       "    <tr style=\"text-align: right;\">\n",
       "      <th></th>\n",
       "      <th>Survived</th>\n",
       "      <th>Pclass</th>\n",
       "      <th>Age</th>\n",
       "      <th>SibSp</th>\n",
       "      <th>Parch</th>\n",
       "      <th>Fare</th>\n",
       "    </tr>\n",
       "  </thead>\n",
       "  <tbody>\n",
       "    <tr>\n",
       "      <th>count</th>\n",
       "      <td>891.000000</td>\n",
       "      <td>891.000000</td>\n",
       "      <td>714.000000</td>\n",
       "      <td>891.000000</td>\n",
       "      <td>891.000000</td>\n",
       "      <td>891.000000</td>\n",
       "    </tr>\n",
       "    <tr>\n",
       "      <th>mean</th>\n",
       "      <td>0.383838</td>\n",
       "      <td>2.308642</td>\n",
       "      <td>29.699118</td>\n",
       "      <td>0.523008</td>\n",
       "      <td>0.381594</td>\n",
       "      <td>32.204208</td>\n",
       "    </tr>\n",
       "    <tr>\n",
       "      <th>std</th>\n",
       "      <td>0.486592</td>\n",
       "      <td>0.836071</td>\n",
       "      <td>14.526497</td>\n",
       "      <td>1.102743</td>\n",
       "      <td>0.806057</td>\n",
       "      <td>49.693429</td>\n",
       "    </tr>\n",
       "    <tr>\n",
       "      <th>min</th>\n",
       "      <td>0.000000</td>\n",
       "      <td>1.000000</td>\n",
       "      <td>0.420000</td>\n",
       "      <td>0.000000</td>\n",
       "      <td>0.000000</td>\n",
       "      <td>0.000000</td>\n",
       "    </tr>\n",
       "    <tr>\n",
       "      <th>25%</th>\n",
       "      <td>0.000000</td>\n",
       "      <td>2.000000</td>\n",
       "      <td>20.125000</td>\n",
       "      <td>0.000000</td>\n",
       "      <td>0.000000</td>\n",
       "      <td>7.910400</td>\n",
       "    </tr>\n",
       "    <tr>\n",
       "      <th>50%</th>\n",
       "      <td>0.000000</td>\n",
       "      <td>3.000000</td>\n",
       "      <td>28.000000</td>\n",
       "      <td>0.000000</td>\n",
       "      <td>0.000000</td>\n",
       "      <td>14.454200</td>\n",
       "    </tr>\n",
       "    <tr>\n",
       "      <th>75%</th>\n",
       "      <td>1.000000</td>\n",
       "      <td>3.000000</td>\n",
       "      <td>38.000000</td>\n",
       "      <td>1.000000</td>\n",
       "      <td>0.000000</td>\n",
       "      <td>31.000000</td>\n",
       "    </tr>\n",
       "    <tr>\n",
       "      <th>max</th>\n",
       "      <td>1.000000</td>\n",
       "      <td>3.000000</td>\n",
       "      <td>80.000000</td>\n",
       "      <td>8.000000</td>\n",
       "      <td>6.000000</td>\n",
       "      <td>512.329200</td>\n",
       "    </tr>\n",
       "  </tbody>\n",
       "</table>\n",
       "</div>"
      ],
      "text/plain": [
       "         Survived      Pclass         Age       SibSp       Parch        Fare\n",
       "count  891.000000  891.000000  714.000000  891.000000  891.000000  891.000000\n",
       "mean     0.383838    2.308642   29.699118    0.523008    0.381594   32.204208\n",
       "std      0.486592    0.836071   14.526497    1.102743    0.806057   49.693429\n",
       "min      0.000000    1.000000    0.420000    0.000000    0.000000    0.000000\n",
       "25%      0.000000    2.000000   20.125000    0.000000    0.000000    7.910400\n",
       "50%      0.000000    3.000000   28.000000    0.000000    0.000000   14.454200\n",
       "75%      1.000000    3.000000   38.000000    1.000000    0.000000   31.000000\n",
       "max      1.000000    3.000000   80.000000    8.000000    6.000000  512.329200"
      ]
     },
     "execution_count": 113,
     "metadata": {},
     "output_type": "execute_result"
    }
   ],
   "source": [
    "df_train.describe()"
   ]
  },
  {
   "cell_type": "markdown",
   "metadata": {},
   "source": [
    "- Implementing Pipeline"
   ]
  },
  {
   "cell_type": "code",
   "execution_count": 1,
   "metadata": {},
   "outputs": [],
   "source": [
    "from sklearn.pipeline import Pipeline, FeatureUnion\n",
    "from sklearn.base import BaseEstimator, TransformerMixin"
   ]
  },
  {
   "cell_type": "code",
   "execution_count": 2,
   "metadata": {},
   "outputs": [],
   "source": [
    "class DataFrameSelector(BaseEstimator, TransformerMixin):\n",
    "    def __init__(self, attribute_names):\n",
    "        self.attributes = attribute_names\n",
    "        \n",
    "    def fit(self, X, y = None):\n",
    "        return self\n",
    "    \n",
    "    def transform(self, X):\n",
    "        return X[self.attributes].values"
   ]
  },
  {
   "cell_type": "code",
   "execution_count": 3,
   "metadata": {},
   "outputs": [],
   "source": [
    "from sklearn.impute import SimpleImputer\n",
    "from sklearn.preprocessing import MinMaxScaler, StandardScaler\n",
    "from sklearn.preprocessing import OneHotEncoder"
   ]
  },
  {
   "cell_type": "code",
   "execution_count": 34,
   "metadata": {},
   "outputs": [],
   "source": [
    "def full_preparation(categories, numerical):\n",
    "    num_pipeline = Pipeline([    \n",
    "        (\"selector\", DataFrameSelector(numerical)), # select numerical features\n",
    "        (\"num_imputer\", SimpleImputer(strategy=\"mean\")), # fill age missing values\n",
    "        (\"min_max_scaler\", MinMaxScaler(feature_range=(0, 1))), # scale data into range 0, 1\n",
    "    ])\n",
    "\n",
    "    cat_pipeline = Pipeline([    \n",
    "        (\"selector\", DataFrameSelector(categories)), # select categorical features\n",
    "        (\"cat_imputer\", SimpleImputer(strategy=\"most_frequent\")), # fill embarked missing values\n",
    "        (\"cat_encoder\", OneHotEncoder(sparse=False, drop=\"first\")), # encode categorical features\n",
    "    ])\n",
    "\n",
    "    # full process\n",
    "    full_pipeline = FeatureUnion(transformer_list = [\n",
    "        (\"num_pipeline\", num_pipeline),\n",
    "        (\"cat_pipeline\", cat_pipeline),\n",
    "    ])\n",
    "    \n",
    "    return full_pipeline"
   ]
  },
  {
   "cell_type": "markdown",
   "metadata": {},
   "source": [
    "- Split dataset into **features, target**"
   ]
  },
  {
   "cell_type": "code",
   "execution_count": 35,
   "metadata": {},
   "outputs": [],
   "source": [
    "features, target = df_train.drop(\"Survived\", axis=1), df_train.Survived.to_numpy()"
   ]
  },
  {
   "cell_type": "markdown",
   "metadata": {},
   "source": [
    "- Split features into **numerical, categorical** features"
   ]
  },
  {
   "cell_type": "code",
   "execution_count": 124,
   "metadata": {},
   "outputs": [
    {
     "data": {
      "text/html": [
       "<div>\n",
       "<style scoped>\n",
       "    .dataframe tbody tr th:only-of-type {\n",
       "        vertical-align: middle;\n",
       "    }\n",
       "\n",
       "    .dataframe tbody tr th {\n",
       "        vertical-align: top;\n",
       "    }\n",
       "\n",
       "    .dataframe thead th {\n",
       "        text-align: right;\n",
       "    }\n",
       "</style>\n",
       "<table border=\"1\" class=\"dataframe\">\n",
       "  <thead>\n",
       "    <tr style=\"text-align: right;\">\n",
       "      <th></th>\n",
       "      <th>Pclass</th>\n",
       "      <th>Sex</th>\n",
       "      <th>Age</th>\n",
       "      <th>SibSp</th>\n",
       "      <th>Parch</th>\n",
       "      <th>Fare</th>\n",
       "      <th>Embarked</th>\n",
       "    </tr>\n",
       "  </thead>\n",
       "  <tbody>\n",
       "    <tr>\n",
       "      <th>0</th>\n",
       "      <td>3</td>\n",
       "      <td>male</td>\n",
       "      <td>22.0</td>\n",
       "      <td>1</td>\n",
       "      <td>0</td>\n",
       "      <td>7.2500</td>\n",
       "      <td>S</td>\n",
       "    </tr>\n",
       "    <tr>\n",
       "      <th>1</th>\n",
       "      <td>1</td>\n",
       "      <td>female</td>\n",
       "      <td>38.0</td>\n",
       "      <td>1</td>\n",
       "      <td>0</td>\n",
       "      <td>71.2833</td>\n",
       "      <td>C</td>\n",
       "    </tr>\n",
       "    <tr>\n",
       "      <th>2</th>\n",
       "      <td>3</td>\n",
       "      <td>female</td>\n",
       "      <td>26.0</td>\n",
       "      <td>0</td>\n",
       "      <td>0</td>\n",
       "      <td>7.9250</td>\n",
       "      <td>S</td>\n",
       "    </tr>\n",
       "    <tr>\n",
       "      <th>3</th>\n",
       "      <td>1</td>\n",
       "      <td>female</td>\n",
       "      <td>35.0</td>\n",
       "      <td>1</td>\n",
       "      <td>0</td>\n",
       "      <td>53.1000</td>\n",
       "      <td>S</td>\n",
       "    </tr>\n",
       "    <tr>\n",
       "      <th>4</th>\n",
       "      <td>3</td>\n",
       "      <td>male</td>\n",
       "      <td>35.0</td>\n",
       "      <td>0</td>\n",
       "      <td>0</td>\n",
       "      <td>8.0500</td>\n",
       "      <td>S</td>\n",
       "    </tr>\n",
       "  </tbody>\n",
       "</table>\n",
       "</div>"
      ],
      "text/plain": [
       "   Pclass     Sex   Age  SibSp  Parch     Fare Embarked\n",
       "0       3    male  22.0      1      0   7.2500        S\n",
       "1       1  female  38.0      1      0  71.2833        C\n",
       "2       3  female  26.0      0      0   7.9250        S\n",
       "3       1  female  35.0      1      0  53.1000        S\n",
       "4       3    male  35.0      0      0   8.0500        S"
      ]
     },
     "execution_count": 124,
     "metadata": {},
     "output_type": "execute_result"
    }
   ],
   "source": [
    "features.head()"
   ]
  },
  {
   "cell_type": "code",
   "execution_count": 37,
   "metadata": {},
   "outputs": [],
   "source": [
    "cats = [\"Sex\", \"Embarked\", \"Pclass\", \"SibSp\"]\n",
    "nums = [\"Age\", \"Fare\", \"Parch\"]"
   ]
  },
  {
   "cell_type": "markdown",
   "metadata": {},
   "source": [
    "- Preprocess train and test"
   ]
  },
  {
   "cell_type": "code",
   "execution_count": 38,
   "metadata": {},
   "outputs": [],
   "source": [
    "prep = full_preparation(cats, nums)\n",
    "# train on features\n",
    "prepare = prep.fit(features)"
   ]
  },
  {
   "cell_type": "code",
   "execution_count": 39,
   "metadata": {},
   "outputs": [],
   "source": [
    "# transform them\n",
    "prep_train = prep.transform(features)\n",
    "prep_test = prep.transform(df_test)"
   ]
  },
  {
   "cell_type": "markdown",
   "metadata": {},
   "source": [
    "- After transformation"
   ]
  },
  {
   "cell_type": "code",
   "execution_count": 40,
   "metadata": {},
   "outputs": [
    {
     "name": "stdout",
     "output_type": "stream",
     "text": [
      "[0.2711736617240512, 0.014151057562208049, 0.0, 1.0, 0.0, 1.0, 0.0, 1.0, 1.0, 0.0, 0.0, 0.0, 0.0, 0.0]\n",
      "[0.4722292033174164, 0.13913573538264068, 0.0, 0.0, 0.0, 0.0, 0.0, 0.0, 1.0, 0.0, 0.0, 0.0, 0.0, 0.0]\n",
      "[0.32143754712239253, 0.015468569817999833, 0.0, 0.0, 0.0, 1.0, 0.0, 1.0, 0.0, 0.0, 0.0, 0.0, 0.0, 0.0]\n"
     ]
    }
   ],
   "source": [
    "for l in prep_train[0:3]:\n",
    "    print(list(l))"
   ]
  },
  {
   "cell_type": "code",
   "execution_count": 41,
   "metadata": {},
   "outputs": [
    {
     "data": {
      "text/html": [
       "<div>\n",
       "<style scoped>\n",
       "    .dataframe tbody tr th:only-of-type {\n",
       "        vertical-align: middle;\n",
       "    }\n",
       "\n",
       "    .dataframe tbody tr th {\n",
       "        vertical-align: top;\n",
       "    }\n",
       "\n",
       "    .dataframe thead th {\n",
       "        text-align: right;\n",
       "    }\n",
       "</style>\n",
       "<table border=\"1\" class=\"dataframe\">\n",
       "  <thead>\n",
       "    <tr style=\"text-align: right;\">\n",
       "      <th></th>\n",
       "      <th>Survived</th>\n",
       "      <th>Pclass</th>\n",
       "      <th>Sex</th>\n",
       "      <th>Age</th>\n",
       "      <th>SibSp</th>\n",
       "      <th>Parch</th>\n",
       "      <th>Fare</th>\n",
       "      <th>Embarked</th>\n",
       "    </tr>\n",
       "  </thead>\n",
       "  <tbody>\n",
       "    <tr>\n",
       "      <th>0</th>\n",
       "      <td>0</td>\n",
       "      <td>3</td>\n",
       "      <td>male</td>\n",
       "      <td>22.0</td>\n",
       "      <td>1</td>\n",
       "      <td>0</td>\n",
       "      <td>7.2500</td>\n",
       "      <td>S</td>\n",
       "    </tr>\n",
       "    <tr>\n",
       "      <th>1</th>\n",
       "      <td>1</td>\n",
       "      <td>1</td>\n",
       "      <td>female</td>\n",
       "      <td>38.0</td>\n",
       "      <td>1</td>\n",
       "      <td>0</td>\n",
       "      <td>71.2833</td>\n",
       "      <td>C</td>\n",
       "    </tr>\n",
       "    <tr>\n",
       "      <th>2</th>\n",
       "      <td>1</td>\n",
       "      <td>3</td>\n",
       "      <td>female</td>\n",
       "      <td>26.0</td>\n",
       "      <td>0</td>\n",
       "      <td>0</td>\n",
       "      <td>7.9250</td>\n",
       "      <td>S</td>\n",
       "    </tr>\n",
       "  </tbody>\n",
       "</table>\n",
       "</div>"
      ],
      "text/plain": [
       "   Survived  Pclass     Sex   Age  SibSp  Parch     Fare Embarked\n",
       "0         0       3    male  22.0      1      0   7.2500        S\n",
       "1         1       1  female  38.0      1      0  71.2833        C\n",
       "2         1       3  female  26.0      0      0   7.9250        S"
      ]
     },
     "execution_count": 41,
     "metadata": {},
     "output_type": "execute_result"
    }
   ],
   "source": [
    "df_train.head(3)"
   ]
  },
  {
   "cell_type": "markdown",
   "metadata": {},
   "source": [
    "- Split data into train, test for modeling"
   ]
  },
  {
   "cell_type": "code",
   "execution_count": 4,
   "metadata": {},
   "outputs": [],
   "source": [
    "from sklearn.model_selection import train_test_split"
   ]
  },
  {
   "cell_type": "code",
   "execution_count": 43,
   "metadata": {},
   "outputs": [],
   "source": [
    "x_train, x_test, y_train, y_test = train_test_split(prep_train, target, test_size=0.3, random_state = 42)"
   ]
  },
  {
   "cell_type": "code",
   "execution_count": 44,
   "metadata": {},
   "outputs": [
    {
     "name": "stdout",
     "output_type": "stream",
     "text": [
      "Train size: 623\n",
      "Test size: 268\n",
      "Submission size: 418\n"
     ]
    }
   ],
   "source": [
    "print(\"Train size: {}\\nTest size: {}\".format(len(x_train), len(x_test)))\n",
    "print(\"Submission size:\", len(prep_test))"
   ]
  },
  {
   "cell_type": "markdown",
   "metadata": {},
   "source": [
    "# Build A Logistic Regression Model"
   ]
  },
  {
   "cell_type": "code",
   "execution_count": 45,
   "metadata": {},
   "outputs": [],
   "source": [
    "from sklearn.linear_model import LogisticRegression\n",
    "from sklearn.model_selection import GridSearchCV\n",
    "from sklearn.metrics import accuracy_score"
   ]
  },
  {
   "cell_type": "markdown",
   "metadata": {},
   "source": [
    "- Train linear model"
   ]
  },
  {
   "cell_type": "code",
   "execution_count": 46,
   "metadata": {},
   "outputs": [],
   "source": [
    "lin_model = LogisticRegression(penalty=\"l2\")"
   ]
  },
  {
   "cell_type": "code",
   "execution_count": 47,
   "metadata": {},
   "outputs": [
    {
     "data": {
      "text/plain": [
       "LogisticRegression()"
      ]
     },
     "execution_count": 47,
     "metadata": {},
     "output_type": "execute_result"
    }
   ],
   "source": [
    "lin_model.fit(x_train, y_train)"
   ]
  },
  {
   "cell_type": "markdown",
   "metadata": {},
   "source": [
    "- Predict"
   ]
  },
  {
   "cell_type": "code",
   "execution_count": 48,
   "metadata": {},
   "outputs": [],
   "source": [
    "y_hat = lin_model.predict(x_test)"
   ]
  },
  {
   "cell_type": "markdown",
   "metadata": {},
   "source": [
    "- Accuracy"
   ]
  },
  {
   "cell_type": "code",
   "execution_count": 49,
   "metadata": {},
   "outputs": [
    {
     "name": "stdout",
     "output_type": "stream",
     "text": [
      "acc of logistic regression: 0.7985074626865671\n"
     ]
    }
   ],
   "source": [
    "print(\"acc of logistic regression:\", accuracy_score(y_test, y_hat))"
   ]
  },
  {
   "cell_type": "markdown",
   "metadata": {},
   "source": [
    "- Hyperparameter Tuning "
   ]
  },
  {
   "cell_type": "code",
   "execution_count": 50,
   "metadata": {},
   "outputs": [],
   "source": [
    "import numpy as np\n",
    "\n",
    "params = {\n",
    "    \"penalty\" : [\"l1\", \"l2\"],\n",
    "    \"C\" : np.logspace(-4, 4, 20),\n",
    "    \"solver\" : [\"newton-cg\", \"lbfgs\", \"liblinear\", \"sag\", \"saga\"]\n",
    "}\n",
    "\n",
    "clf = GridSearchCV(LogisticRegression(), param_grid=params, cv=4, verbose=True, n_jobs=-1)"
   ]
  },
  {
   "cell_type": "code",
   "execution_count": 51,
   "metadata": {},
   "outputs": [
    {
     "name": "stdout",
     "output_type": "stream",
     "text": [
      "Fitting 4 folds for each of 200 candidates, totalling 800 fits\n"
     ]
    },
    {
     "name": "stderr",
     "output_type": "stream",
     "text": [
      "[Parallel(n_jobs=-1)]: Using backend LokyBackend with 8 concurrent workers.\n",
      "[Parallel(n_jobs=-1)]: Done  34 tasks      | elapsed:    1.4s\n",
      "[Parallel(n_jobs=-1)]: Done 800 out of 800 | elapsed:    2.6s finished\n"
     ]
    },
    {
     "data": {
      "text/plain": [
       "GridSearchCV(cv=4, estimator=LogisticRegression(), n_jobs=-1,\n",
       "             param_grid={'C': array([1.00000000e-04, 2.63665090e-04, 6.95192796e-04, 1.83298071e-03,\n",
       "       4.83293024e-03, 1.27427499e-02, 3.35981829e-02, 8.85866790e-02,\n",
       "       2.33572147e-01, 6.15848211e-01, 1.62377674e+00, 4.28133240e+00,\n",
       "       1.12883789e+01, 2.97635144e+01, 7.84759970e+01, 2.06913808e+02,\n",
       "       5.45559478e+02, 1.43844989e+03, 3.79269019e+03, 1.00000000e+04]),\n",
       "                         'penalty': ['l1', 'l2'],\n",
       "                         'solver': ['newton-cg', 'lbfgs', 'liblinear', 'sag',\n",
       "                                    'saga']},\n",
       "             verbose=True)"
      ]
     },
     "execution_count": 51,
     "metadata": {},
     "output_type": "execute_result"
    }
   ],
   "source": [
    "clf.fit(x_train, y_train)"
   ]
  },
  {
   "cell_type": "code",
   "execution_count": 52,
   "metadata": {},
   "outputs": [
    {
     "data": {
      "text/plain": [
       "LogisticRegression(C=0.08858667904100823, solver='newton-cg')"
      ]
     },
     "execution_count": 52,
     "metadata": {},
     "output_type": "execute_result"
    }
   ],
   "source": [
    "clf.best_estimator_"
   ]
  },
  {
   "cell_type": "code",
   "execution_count": 53,
   "metadata": {},
   "outputs": [
    {
     "name": "stdout",
     "output_type": "stream",
     "text": [
      "acc of linear model: 0.8022388059701493\n"
     ]
    }
   ],
   "source": [
    "log_reg = clf.best_estimator_\n",
    "print(\"acc of linear model:\", accuracy_score(y_test, log_reg.predict(x_test))) "
   ]
  },
  {
   "cell_type": "markdown",
   "metadata": {},
   "source": [
    "- Classification report with visualization"
   ]
  },
  {
   "cell_type": "markdown",
   "metadata": {},
   "source": [
    "![](https://secureservercdn.net/198.71.233.197/l87.de8.myftpupload.com/wp-content/uploads/2016/09/table-blog.png)"
   ]
  },
  {
   "cell_type": "code",
   "execution_count": 54,
   "metadata": {},
   "outputs": [],
   "source": [
    "from sklearn.metrics import classification_report, confusion_matrix"
   ]
  },
  {
   "cell_type": "code",
   "execution_count": 55,
   "metadata": {},
   "outputs": [
    {
     "name": "stdout",
     "output_type": "stream",
     "text": [
      "              precision    recall  f1-score   support\n",
      "\n",
      "           0       0.78      0.92      0.84       157\n",
      "           1       0.85      0.64      0.73       111\n",
      "\n",
      "    accuracy                           0.80       268\n",
      "   macro avg       0.81      0.78      0.79       268\n",
      "weighted avg       0.81      0.80      0.80       268\n",
      "\n"
     ]
    }
   ],
   "source": [
    "print(classification_report(y_test, log_reg.predict(x_test)))"
   ]
  },
  {
   "cell_type": "code",
   "execution_count": 56,
   "metadata": {},
   "outputs": [
    {
     "data": {
      "image/png": "[encoded data removed]",
      "text/plain": [
       "<Figure size 504x360 with 2 Axes>"
      ]
     },
     "metadata": {
      "needs_background": "light"
     },
     "output_type": "display_data"
    }
   ],
   "source": [
    "fig, ax = plt.subplots(1, 1, figsize = (7, 5))\n",
    "heatmap = sns.heatmap(\n",
    "    data = confusion_matrix(y_test, log_reg.predict(x_test), normalize=\"true\"), \n",
    "    annot = True, fmt = \"0.2f\", \n",
    "    cmap = \"binary\", ax = ax\n",
    ")\n",
    "\n",
    "plt.show()"
   ]
  },
  {
   "cell_type": "markdown",
   "metadata": {},
   "source": [
    "# Build Popular Classification Models"
   ]
  },
  {
   "cell_type": "markdown",
   "metadata": {},
   "source": [
    "- Import popular models"
   ]
  },
  {
   "cell_type": "code",
   "execution_count": 57,
   "metadata": {},
   "outputs": [],
   "source": [
    "from sklearn.neighbors import KNeighborsClassifier\n",
    "from sklearn.ensemble import RandomForestClassifier\n",
    "from sklearn.svm import SVC"
   ]
  },
  {
   "cell_type": "markdown",
   "metadata": {},
   "source": [
    "- Define all estimators"
   ]
  },
  {
   "cell_type": "code",
   "execution_count": 58,
   "metadata": {},
   "outputs": [],
   "source": [
    "estimators = {\n",
    "    \"forest\": RandomForestClassifier(),\n",
    "    \"knn\": KNeighborsClassifier(),\n",
    "    \"svc\": SVC()\n",
    "}"
   ]
  },
  {
   "cell_type": "markdown",
   "metadata": {},
   "source": [
    "- Create param grid"
   ]
  },
  {
   "cell_type": "code",
   "execution_count": 59,
   "metadata": {
    "scrolled": true
   },
   "outputs": [],
   "source": [
    "params = {\n",
    "    \n",
    "    \"forest\": {\n",
    "        \"n_estimators\" : list(range(10, 401, 50)),\n",
    "        \"max_features\" : [\"auto\", \"sqrt\"],\n",
    "        \"max_depth\" : list(range(5, 101, 10))+[None],\n",
    "        \"min_samples_split\" : [2, 5, 10],\n",
    "        \"min_samples_leaf\" : [1, 2, 4],\n",
    "        \"bootstrap\": [True, False],\n",
    "    },\n",
    "    \n",
    "    \"knn\": {\n",
    "        \"n_neighbors\": range(1,30),\n",
    "        \"leaf_size\": range(1, 50),\n",
    "        'p': [1, 2],\n",
    "    },\n",
    "\n",
    "    \"svc\": {\n",
    "        'C': [0.1,1, 10, 100], \n",
    "        \"gamma\": [1,0.1,0.01,0.001],\n",
    "        \"kernel\": [\"rbf\", \"poly\", \"sigmoid\"]\n",
    "    }\n",
    "}\n"
   ]
  },
  {
   "cell_type": "markdown",
   "metadata": {},
   "source": [
    "- Apply grid searching"
   ]
  },
  {
   "cell_type": "code",
   "execution_count": 60,
   "metadata": {
    "scrolled": false
   },
   "outputs": [
    {
     "name": "stdout",
     "output_type": "stream",
     "text": [
      "Fitting 5 folds for each of 3168 candidates, totalling 15840 fits\n"
     ]
    },
    {
     "name": "stderr",
     "output_type": "stream",
     "text": [
      "[Parallel(n_jobs=-1)]: Using backend LokyBackend with 8 concurrent workers.\n",
      "[Parallel(n_jobs=-1)]: Done  52 tasks      | elapsed:    3.4s\n",
      "[Parallel(n_jobs=-1)]: Done 216 tasks      | elapsed:   16.8s\n",
      "[Parallel(n_jobs=-1)]: Done 466 tasks      | elapsed:   35.7s\n",
      "[Parallel(n_jobs=-1)]: Done 816 tasks      | elapsed:  1.0min\n",
      "[Parallel(n_jobs=-1)]: Done 1266 tasks      | elapsed:  1.6min\n",
      "[Parallel(n_jobs=-1)]: Done 1816 tasks      | elapsed:  2.3min\n",
      "[Parallel(n_jobs=-1)]: Done 2466 tasks      | elapsed:  3.1min\n",
      "[Parallel(n_jobs=-1)]: Done 3216 tasks      | elapsed:  4.1min\n",
      "[Parallel(n_jobs=-1)]: Done 4066 tasks      | elapsed:  5.2min\n",
      "[Parallel(n_jobs=-1)]: Done 5016 tasks      | elapsed:  6.4min\n",
      "[Parallel(n_jobs=-1)]: Done 6066 tasks      | elapsed:  7.8min\n",
      "[Parallel(n_jobs=-1)]: Done 7216 tasks      | elapsed:  9.3min\n",
      "[Parallel(n_jobs=-1)]: Done 8466 tasks      | elapsed: 10.8min\n",
      "[Parallel(n_jobs=-1)]: Done 9816 tasks      | elapsed: 12.2min\n",
      "[Parallel(n_jobs=-1)]: Done 11266 tasks      | elapsed: 13.8min\n",
      "[Parallel(n_jobs=-1)]: Done 12816 tasks      | elapsed: 15.6min\n",
      "[Parallel(n_jobs=-1)]: Done 14466 tasks      | elapsed: 17.4min\n",
      "[Parallel(n_jobs=-1)]: Done 15840 out of 15840 | elapsed: 18.9min finished\n",
      "[Parallel(n_jobs=-1)]: Using backend LokyBackend with 8 concurrent workers.\n"
     ]
    },
    {
     "name": "stdout",
     "output_type": "stream",
     "text": [
      "Fitting 5 folds for each of 2842 candidates, totalling 14210 fits\n"
     ]
    },
    {
     "name": "stderr",
     "output_type": "stream",
     "text": [
      "[Parallel(n_jobs=-1)]: Done  56 tasks      | elapsed:    0.3s\n",
      "[Parallel(n_jobs=-1)]: Done 1200 tasks      | elapsed:    3.6s\n",
      "[Parallel(n_jobs=-1)]: Done 3200 tasks      | elapsed:    8.6s\n",
      "[Parallel(n_jobs=-1)]: Done 6000 tasks      | elapsed:   14.8s\n",
      "[Parallel(n_jobs=-1)]: Done 9600 tasks      | elapsed:   22.7s\n",
      "[Parallel(n_jobs=-1)]: Done 14000 tasks      | elapsed:   32.1s\n",
      "[Parallel(n_jobs=-1)]: Done 14195 out of 14210 | elapsed:   32.5s remaining:    0.0s\n",
      "[Parallel(n_jobs=-1)]: Done 14210 out of 14210 | elapsed:   32.5s finished\n",
      "[Parallel(n_jobs=-1)]: Using backend LokyBackend with 8 concurrent workers.\n"
     ]
    },
    {
     "name": "stdout",
     "output_type": "stream",
     "text": [
      "Fitting 5 folds for each of 48 candidates, totalling 240 fits\n"
     ]
    },
    {
     "name": "stderr",
     "output_type": "stream",
     "text": [
      "[Parallel(n_jobs=-1)]: Done  56 tasks      | elapsed:    0.2s\n",
      "[Parallel(n_jobs=-1)]: Done 240 out of 240 | elapsed:    1.5s finished\n"
     ]
    }
   ],
   "source": [
    "for name, estimator in estimators.items():\n",
    "    # Create grid search object\n",
    "    clf = GridSearchCV(estimator=estimator, param_grid=params[name], cv=5, verbose=True, n_jobs=-1)\n",
    "    # Fit on data\n",
    "    best_clf = clf.fit(x_train, y_train)\n",
    "    estimators[name] = best_clf"
   ]
  },
  {
   "cell_type": "markdown",
   "metadata": {},
   "source": [
    "- Display the report for each estimator"
   ]
  },
  {
   "cell_type": "code",
   "execution_count": 61,
   "metadata": {
    "scrolled": false
   },
   "outputs": [
    {
     "name": "stdout",
     "output_type": "stream",
     "text": [
      "forest\n",
      "              precision    recall  f1-score   support\n",
      "\n",
      "           0       0.80      0.92      0.85       157\n",
      "           1       0.85      0.67      0.75       111\n",
      "\n",
      "    accuracy                           0.81       268\n",
      "   macro avg       0.82      0.79      0.80       268\n",
      "weighted avg       0.82      0.81      0.81       268\n",
      "\n",
      "knn\n",
      "              precision    recall  f1-score   support\n",
      "\n",
      "           0       0.77      0.92      0.84       157\n",
      "           1       0.85      0.60      0.71       111\n",
      "\n",
      "    accuracy                           0.79       268\n",
      "   macro avg       0.81      0.76      0.77       268\n",
      "weighted avg       0.80      0.79      0.78       268\n",
      "\n",
      "svc\n",
      "              precision    recall  f1-score   support\n",
      "\n",
      "           0       0.78      0.90      0.83       157\n",
      "           1       0.82      0.64      0.72       111\n",
      "\n",
      "    accuracy                           0.79       268\n",
      "   macro avg       0.80      0.77      0.78       268\n",
      "weighted avg       0.79      0.79      0.79       268\n",
      "\n"
     ]
    }
   ],
   "source": [
    "for name, estimator in estimators.items():\n",
    "    y_hat = estimator.predict(x_test)\n",
    "    print(name)\n",
    "    print(classification_report(y_test, y_hat))"
   ]
  },
  {
   "cell_type": "markdown",
   "metadata": {},
   "source": [
    "# Build A CatBoost Classification Model"
   ]
  },
  {
   "cell_type": "markdown",
   "metadata": {},
   "source": [
    "- Import catboost model"
   ]
  },
  {
   "cell_type": "code",
   "execution_count": 62,
   "metadata": {},
   "outputs": [],
   "source": [
    "from catboost import CatBoostClassifier, Pool\n",
    "from catboost.utils import get_roc_curve"
   ]
  },
  {
   "cell_type": "markdown",
   "metadata": {},
   "source": [
    "- Create param grid"
   ]
  },
  {
   "cell_type": "code",
   "execution_count": 63,
   "metadata": {},
   "outputs": [],
   "source": [
    "params = {\n",
    "    \"depth\": range(4, 10, 2),\n",
    "    \"learning_rate\": [0.01, 0.05, 0.1],\n",
    "    \"l2_leaf_reg\": range(1, 10, 2),\n",
    "    \"border_count\": [4, 10],\n",
    "}"
   ]
  },
  {
   "cell_type": "markdown",
   "metadata": {},
   "source": [
    "- Apply grid searching"
   ]
  },
  {
   "cell_type": "code",
   "execution_count": 64,
   "metadata": {
    "scrolled": true
   },
   "outputs": [
    {
     "name": "stdout",
     "output_type": "stream",
     "text": [
      "Fitting 5 folds for each of 90 candidates, totalling 450 fits\n"
     ]
    },
    {
     "name": "stderr",
     "output_type": "stream",
     "text": [
      "[Parallel(n_jobs=-1)]: Using backend LokyBackend with 8 concurrent workers.\n",
      "[Parallel(n_jobs=-1)]: Done  34 tasks      | elapsed:    9.8s\n",
      "[Parallel(n_jobs=-1)]: Done 184 tasks      | elapsed:   49.8s\n",
      "[Parallel(n_jobs=-1)]: Done 434 tasks      | elapsed:  2.0min\n",
      "[Parallel(n_jobs=-1)]: Done 450 out of 450 | elapsed:  2.1min finished\n"
     ]
    },
    {
     "name": "stdout",
     "output_type": "stream",
     "text": [
      "0:\tlearn: 0.6608215\ttest: 0.6598617\tbest: 0.6598617 (0)\ttotal: 49.9ms\tremaining: 24.9s\n",
      "1:\tlearn: 0.6421700\ttest: 0.6427857\tbest: 0.6427857 (1)\ttotal: 51.7ms\tremaining: 12.9s\n",
      "2:\tlearn: 0.6233076\ttest: 0.6240881\tbest: 0.6240881 (2)\ttotal: 53.1ms\tremaining: 8.8s\n",
      "3:\tlearn: 0.6011822\ttest: 0.6021845\tbest: 0.6021845 (3)\ttotal: 54.5ms\tremaining: 6.76s\n",
      "4:\tlearn: 0.5866061\ttest: 0.5879371\tbest: 0.5879371 (4)\ttotal: 55.8ms\tremaining: 5.53s\n",
      "5:\tlearn: 0.5684147\ttest: 0.5708962\tbest: 0.5708962 (5)\ttotal: 56.6ms\tremaining: 4.66s\n",
      "6:\tlearn: 0.5521433\ttest: 0.5552813\tbest: 0.5552813 (6)\ttotal: 57.2ms\tremaining: 4.03s\n",
      "7:\tlearn: 0.5370320\ttest: 0.5418731\tbest: 0.5418731 (7)\ttotal: 57.8ms\tremaining: 3.56s\n",
      "8:\tlearn: 0.5218493\ttest: 0.5273485\tbest: 0.5273485 (8)\ttotal: 58.4ms\tremaining: 3.18s\n",
      "9:\tlearn: 0.5145391\ttest: 0.5208136\tbest: 0.5208136 (9)\ttotal: 58.9ms\tremaining: 2.89s\n",
      "10:\tlearn: 0.5084971\ttest: 0.5153598\tbest: 0.5153598 (10)\ttotal: 59.5ms\tremaining: 2.64s\n",
      "11:\tlearn: 0.5028052\ttest: 0.5091458\tbest: 0.5091458 (11)\ttotal: 60ms\tremaining: 2.44s\n",
      "12:\tlearn: 0.4938484\ttest: 0.5009730\tbest: 0.5009730 (12)\ttotal: 60.6ms\tremaining: 2.27s\n",
      "13:\tlearn: 0.4841221\ttest: 0.4927993\tbest: 0.4927993 (13)\ttotal: 61.2ms\tremaining: 2.12s\n",
      "14:\tlearn: 0.4748368\ttest: 0.4843092\tbest: 0.4843092 (14)\ttotal: 61.7ms\tremaining: 2s\n",
      "15:\tlearn: 0.4711630\ttest: 0.4810148\tbest: 0.4810148 (15)\ttotal: 62.3ms\tremaining: 1.88s\n",
      "16:\tlearn: 0.4650409\ttest: 0.4773932\tbest: 0.4773932 (16)\ttotal: 62.8ms\tremaining: 1.78s\n",
      "17:\tlearn: 0.4565844\ttest: 0.4704459\tbest: 0.4704459 (17)\ttotal: 63.4ms\tremaining: 1.7s\n",
      "18:\tlearn: 0.4524607\ttest: 0.4669557\tbest: 0.4669557 (18)\ttotal: 63.9ms\tremaining: 1.62s\n",
      "19:\tlearn: 0.4486591\ttest: 0.4630752\tbest: 0.4630752 (19)\ttotal: 64.5ms\tremaining: 1.55s\n",
      "20:\tlearn: 0.4449381\ttest: 0.4608468\tbest: 0.4608468 (20)\ttotal: 65ms\tremaining: 1.48s\n",
      "21:\tlearn: 0.4402010\ttest: 0.4568785\tbest: 0.4568785 (21)\ttotal: 65.6ms\tremaining: 1.43s\n",
      "22:\tlearn: 0.4357627\ttest: 0.4538051\tbest: 0.4538051 (22)\ttotal: 66.1ms\tremaining: 1.37s\n",
      "23:\tlearn: 0.4320666\ttest: 0.4511680\tbest: 0.4511680 (23)\ttotal: 66.7ms\tremaining: 1.32s\n",
      "24:\tlearn: 0.4301072\ttest: 0.4502920\tbest: 0.4502920 (24)\ttotal: 67.2ms\tremaining: 1.28s\n",
      "25:\tlearn: 0.4268563\ttest: 0.4487323\tbest: 0.4487323 (25)\ttotal: 67.8ms\tremaining: 1.24s\n",
      "26:\tlearn: 0.4258142\ttest: 0.4483686\tbest: 0.4483686 (26)\ttotal: 68.4ms\tremaining: 1.2s\n",
      "27:\tlearn: 0.4254830\ttest: 0.4480519\tbest: 0.4480519 (27)\ttotal: 68.8ms\tremaining: 1.16s\n",
      "28:\tlearn: 0.4233216\ttest: 0.4471998\tbest: 0.4471998 (28)\ttotal: 69.4ms\tremaining: 1.13s\n",
      "29:\tlearn: 0.4219582\ttest: 0.4461175\tbest: 0.4461175 (29)\ttotal: 69.9ms\tremaining: 1.09s\n",
      "30:\tlearn: 0.4210137\ttest: 0.4455659\tbest: 0.4455659 (30)\ttotal: 70.5ms\tremaining: 1.07s\n",
      "31:\tlearn: 0.4202575\ttest: 0.4448419\tbest: 0.4448419 (31)\ttotal: 71.1ms\tremaining: 1.04s\n",
      "32:\tlearn: 0.4183279\ttest: 0.4443033\tbest: 0.4443033 (32)\ttotal: 71.6ms\tremaining: 1.01s\n",
      "33:\tlearn: 0.4173870\ttest: 0.4436629\tbest: 0.4436629 (33)\ttotal: 72.2ms\tremaining: 989ms\n",
      "34:\tlearn: 0.4158167\ttest: 0.4435369\tbest: 0.4435369 (34)\ttotal: 72.7ms\tremaining: 966ms\n",
      "35:\tlearn: 0.4136553\ttest: 0.4425472\tbest: 0.4425472 (35)\ttotal: 73.2ms\tremaining: 944ms\n",
      "36:\tlearn: 0.4125341\ttest: 0.4419405\tbest: 0.4419405 (36)\ttotal: 73.8ms\tremaining: 923ms\n",
      "37:\tlearn: 0.4110161\ttest: 0.4404167\tbest: 0.4404167 (37)\ttotal: 74.3ms\tremaining: 904ms\n",
      "38:\tlearn: 0.4097222\ttest: 0.4395828\tbest: 0.4395828 (38)\ttotal: 74.9ms\tremaining: 885ms\n",
      "39:\tlearn: 0.4078022\ttest: 0.4389307\tbest: 0.4389307 (39)\ttotal: 75.4ms\tremaining: 867ms\n",
      "40:\tlearn: 0.4066342\ttest: 0.4383364\tbest: 0.4383364 (40)\ttotal: 76ms\tremaining: 851ms\n",
      "41:\tlearn: 0.4050609\ttest: 0.4377673\tbest: 0.4377673 (41)\ttotal: 76.5ms\tremaining: 834ms\n",
      "42:\tlearn: 0.4046934\ttest: 0.4376304\tbest: 0.4376304 (42)\ttotal: 77ms\tremaining: 819ms\n",
      "43:\tlearn: 0.4043043\ttest: 0.4376643\tbest: 0.4376304 (42)\ttotal: 77.6ms\tremaining: 804ms\n",
      "44:\tlearn: 0.4033772\ttest: 0.4371844\tbest: 0.4371844 (44)\ttotal: 78.2ms\tremaining: 790ms\n",
      "45:\tlearn: 0.4026285\ttest: 0.4366984\tbest: 0.4366984 (45)\ttotal: 78.7ms\tremaining: 777ms\n",
      "46:\tlearn: 0.4016633\ttest: 0.4362579\tbest: 0.4362579 (46)\ttotal: 79.3ms\tremaining: 764ms\n",
      "47:\tlearn: 0.4006519\ttest: 0.4360195\tbest: 0.4360195 (47)\ttotal: 79.8ms\tremaining: 751ms\n",
      "48:\tlearn: 0.3997278\ttest: 0.4357729\tbest: 0.4357729 (48)\ttotal: 80.3ms\tremaining: 739ms\n",
      "49:\tlearn: 0.3992347\ttest: 0.4356829\tbest: 0.4356829 (49)\ttotal: 80.8ms\tremaining: 728ms\n",
      "50:\tlearn: 0.3979513\ttest: 0.4351631\tbest: 0.4351631 (50)\ttotal: 81.4ms\tremaining: 716ms\n",
      "51:\tlearn: 0.3972823\ttest: 0.4345815\tbest: 0.4345815 (51)\ttotal: 81.9ms\tremaining: 705ms\n",
      "52:\tlearn: 0.3969704\ttest: 0.4344149\tbest: 0.4344149 (52)\ttotal: 82.4ms\tremaining: 695ms\n",
      "53:\tlearn: 0.3966910\ttest: 0.4339399\tbest: 0.4339399 (53)\ttotal: 82.9ms\tremaining: 685ms\n",
      "54:\tlearn: 0.3957590\ttest: 0.4339579\tbest: 0.4339399 (53)\ttotal: 83.4ms\tremaining: 675ms\n",
      "55:\tlearn: 0.3942719\ttest: 0.4331631\tbest: 0.4331631 (55)\ttotal: 83.9ms\tremaining: 666ms\n",
      "56:\tlearn: 0.3936063\ttest: 0.4326952\tbest: 0.4326952 (56)\ttotal: 84.5ms\tremaining: 656ms\n",
      "57:\tlearn: 0.3933339\ttest: 0.4327559\tbest: 0.4326952 (56)\ttotal: 85ms\tremaining: 648ms\n",
      "58:\tlearn: 0.3926295\ttest: 0.4319737\tbest: 0.4319737 (58)\ttotal: 85.5ms\tremaining: 639ms\n",
      "59:\tlearn: 0.3921385\ttest: 0.4319157\tbest: 0.4319157 (59)\ttotal: 86.1ms\tremaining: 631ms\n",
      "60:\tlearn: 0.3915843\ttest: 0.4317391\tbest: 0.4317391 (60)\ttotal: 86.6ms\tremaining: 623ms\n",
      "61:\tlearn: 0.3897859\ttest: 0.4304847\tbest: 0.4304847 (61)\ttotal: 87.1ms\tremaining: 615ms\n",
      "62:\tlearn: 0.3892565\ttest: 0.4301799\tbest: 0.4301799 (62)\ttotal: 87.6ms\tremaining: 608ms\n",
      "63:\tlearn: 0.3877988\ttest: 0.4301174\tbest: 0.4301174 (63)\ttotal: 88.2ms\tremaining: 601ms\n",
      "64:\tlearn: 0.3873157\ttest: 0.4299365\tbest: 0.4299365 (64)\ttotal: 88.7ms\tremaining: 594ms\n",
      "65:\tlearn: 0.3870294\ttest: 0.4299228\tbest: 0.4299228 (65)\ttotal: 89.2ms\tremaining: 587ms\n",
      "66:\tlearn: 0.3860986\ttest: 0.4296054\tbest: 0.4296054 (66)\ttotal: 89.7ms\tremaining: 580ms\n",
      "67:\tlearn: 0.3857076\ttest: 0.4299195\tbest: 0.4296054 (66)\ttotal: 90.3ms\tremaining: 574ms\n",
      "68:\tlearn: 0.3844724\ttest: 0.4295061\tbest: 0.4295061 (68)\ttotal: 90.8ms\tremaining: 567ms\n",
      "69:\tlearn: 0.3835145\ttest: 0.4289167\tbest: 0.4289167 (69)\ttotal: 91.3ms\tremaining: 561ms\n",
      "70:\tlearn: 0.3831014\ttest: 0.4286974\tbest: 0.4286974 (70)\ttotal: 91.9ms\tremaining: 555ms\n",
      "71:\tlearn: 0.3828113\ttest: 0.4287050\tbest: 0.4286974 (70)\ttotal: 92.4ms\tremaining: 549ms\n",
      "72:\tlearn: 0.3821232\ttest: 0.4288562\tbest: 0.4286974 (70)\ttotal: 92.9ms\tremaining: 544ms\n",
      "73:\tlearn: 0.3818341\ttest: 0.4289112\tbest: 0.4286974 (70)\ttotal: 93.4ms\tremaining: 538ms\n",
      "74:\tlearn: 0.3814179\ttest: 0.4284152\tbest: 0.4284152 (74)\ttotal: 94ms\tremaining: 532ms\n",
      "75:\tlearn: 0.3809757\ttest: 0.4284903\tbest: 0.4284152 (74)\ttotal: 94.5ms\tremaining: 527ms\n",
      "76:\tlearn: 0.3808259\ttest: 0.4282883\tbest: 0.4282883 (76)\ttotal: 95ms\tremaining: 522ms\n",
      "77:\tlearn: 0.3804907\ttest: 0.4279598\tbest: 0.4279598 (77)\ttotal: 95.5ms\tremaining: 517ms\n",
      "78:\tlearn: 0.3799782\ttest: 0.4273158\tbest: 0.4273158 (78)\ttotal: 96ms\tremaining: 512ms\n",
      "79:\tlearn: 0.3795919\ttest: 0.4268231\tbest: 0.4268231 (79)\ttotal: 96.6ms\tremaining: 507ms\n",
      "80:\tlearn: 0.3791287\ttest: 0.4266950\tbest: 0.4266950 (80)\ttotal: 97.1ms\tremaining: 502ms\n",
      "81:\tlearn: 0.3784706\ttest: 0.4266348\tbest: 0.4266348 (81)\ttotal: 97.6ms\tremaining: 497ms\n",
      "82:\tlearn: 0.3780598\ttest: 0.4262248\tbest: 0.4262248 (82)\ttotal: 98.1ms\tremaining: 493ms\n",
      "83:\tlearn: 0.3766278\ttest: 0.4261573\tbest: 0.4261573 (83)\ttotal: 98.6ms\tremaining: 488ms\n",
      "84:\tlearn: 0.3758286\ttest: 0.4261043\tbest: 0.4261043 (84)\ttotal: 99.1ms\tremaining: 484ms\n",
      "85:\tlearn: 0.3755180\ttest: 0.4261736\tbest: 0.4261043 (84)\ttotal: 99.6ms\tremaining: 480ms\n",
      "86:\tlearn: 0.3747363\ttest: 0.4254041\tbest: 0.4254041 (86)\ttotal: 100ms\tremaining: 475ms\n",
      "87:\tlearn: 0.3737058\ttest: 0.4258066\tbest: 0.4254041 (86)\ttotal: 101ms\tremaining: 471ms\n",
      "88:\tlearn: 0.3732748\ttest: 0.4258454\tbest: 0.4254041 (86)\ttotal: 101ms\tremaining: 467ms\n",
      "89:\tlearn: 0.3727498\ttest: 0.4252499\tbest: 0.4252499 (89)\ttotal: 102ms\tremaining: 463ms\n",
      "90:\tlearn: 0.3723564\ttest: 0.4250734\tbest: 0.4250734 (90)\ttotal: 102ms\tremaining: 460ms\n",
      "91:\tlearn: 0.3721093\ttest: 0.4252430\tbest: 0.4250734 (90)\ttotal: 103ms\tremaining: 456ms\n",
      "92:\tlearn: 0.3715135\ttest: 0.4249041\tbest: 0.4249041 (92)\ttotal: 103ms\tremaining: 452ms\n",
      "93:\tlearn: 0.3713213\ttest: 0.4247164\tbest: 0.4247164 (93)\ttotal: 104ms\tremaining: 448ms\n",
      "94:\tlearn: 0.3708241\ttest: 0.4249924\tbest: 0.4247164 (93)\ttotal: 104ms\tremaining: 445ms\n",
      "95:\tlearn: 0.3705970\ttest: 0.4249693\tbest: 0.4247164 (93)\ttotal: 105ms\tremaining: 441ms\n",
      "96:\tlearn: 0.3703205\ttest: 0.4251629\tbest: 0.4247164 (93)\ttotal: 105ms\tremaining: 438ms\n",
      "97:\tlearn: 0.3701513\ttest: 0.4251300\tbest: 0.4247164 (93)\ttotal: 106ms\tremaining: 434ms\n",
      "98:\tlearn: 0.3691169\ttest: 0.4255346\tbest: 0.4247164 (93)\ttotal: 106ms\tremaining: 431ms\n",
      "99:\tlearn: 0.3685540\ttest: 0.4261633\tbest: 0.4247164 (93)\ttotal: 107ms\tremaining: 428ms\n",
      "100:\tlearn: 0.3684622\ttest: 0.4261657\tbest: 0.4247164 (93)\ttotal: 108ms\tremaining: 425ms\n",
      "101:\tlearn: 0.3681638\ttest: 0.4260676\tbest: 0.4247164 (93)\ttotal: 108ms\tremaining: 422ms\n",
      "102:\tlearn: 0.3674401\ttest: 0.4257049\tbest: 0.4247164 (93)\ttotal: 109ms\tremaining: 419ms\n",
      "103:\tlearn: 0.3666789\ttest: 0.4256639\tbest: 0.4247164 (93)\ttotal: 109ms\tremaining: 416ms\n",
      "104:\tlearn: 0.3663527\ttest: 0.4259549\tbest: 0.4247164 (93)\ttotal: 110ms\tremaining: 413ms\n",
      "105:\tlearn: 0.3661915\ttest: 0.4257649\tbest: 0.4247164 (93)\ttotal: 111ms\tremaining: 411ms\n",
      "106:\tlearn: 0.3660594\ttest: 0.4255816\tbest: 0.4247164 (93)\ttotal: 111ms\tremaining: 408ms\n",
      "107:\tlearn: 0.3655684\ttest: 0.4255747\tbest: 0.4247164 (93)\ttotal: 112ms\tremaining: 405ms\n",
      "108:\tlearn: 0.3653123\ttest: 0.4254217\tbest: 0.4247164 (93)\ttotal: 112ms\tremaining: 402ms\n",
      "109:\tlearn: 0.3648605\ttest: 0.4253633\tbest: 0.4247164 (93)\ttotal: 113ms\tremaining: 400ms\n",
      "110:\tlearn: 0.3643440\ttest: 0.4247189\tbest: 0.4247164 (93)\ttotal: 113ms\tremaining: 397ms\n",
      "111:\tlearn: 0.3641225\ttest: 0.4246032\tbest: 0.4246032 (111)\ttotal: 114ms\tremaining: 395ms\n",
      "112:\tlearn: 0.3637657\ttest: 0.4243114\tbest: 0.4243114 (112)\ttotal: 114ms\tremaining: 392ms\n",
      "113:\tlearn: 0.3635112\ttest: 0.4244779\tbest: 0.4243114 (112)\ttotal: 115ms\tremaining: 389ms\n",
      "114:\tlearn: 0.3630844\ttest: 0.4243417\tbest: 0.4243114 (112)\ttotal: 116ms\tremaining: 387ms\n",
      "115:\tlearn: 0.3625695\ttest: 0.4249838\tbest: 0.4243114 (112)\ttotal: 116ms\tremaining: 384ms\n",
      "116:\tlearn: 0.3623530\ttest: 0.4247112\tbest: 0.4243114 (112)\ttotal: 117ms\tremaining: 382ms\n",
      "117:\tlearn: 0.3622236\ttest: 0.4245685\tbest: 0.4243114 (112)\ttotal: 117ms\tremaining: 379ms\n",
      "118:\tlearn: 0.3619036\ttest: 0.4246198\tbest: 0.4243114 (112)\ttotal: 118ms\tremaining: 377ms\n",
      "119:\tlearn: 0.3615256\ttest: 0.4242311\tbest: 0.4242311 (119)\ttotal: 118ms\tremaining: 375ms\n",
      "120:\tlearn: 0.3606618\ttest: 0.4238574\tbest: 0.4238574 (120)\ttotal: 119ms\tremaining: 372ms\n",
      "121:\tlearn: 0.3602410\ttest: 0.4238422\tbest: 0.4238422 (121)\ttotal: 119ms\tremaining: 370ms\n",
      "122:\tlearn: 0.3601084\ttest: 0.4238228\tbest: 0.4238228 (122)\ttotal: 120ms\tremaining: 368ms\n",
      "123:\tlearn: 0.3592936\ttest: 0.4237397\tbest: 0.4237397 (123)\ttotal: 121ms\tremaining: 366ms\n",
      "124:\tlearn: 0.3581679\ttest: 0.4234649\tbest: 0.4234649 (124)\ttotal: 121ms\tremaining: 363ms\n",
      "125:\tlearn: 0.3578309\ttest: 0.4238600\tbest: 0.4234649 (124)\ttotal: 122ms\tremaining: 361ms\n",
      "126:\tlearn: 0.3576372\ttest: 0.4238304\tbest: 0.4234649 (124)\ttotal: 122ms\tremaining: 359ms\n",
      "127:\tlearn: 0.3569281\ttest: 0.4236234\tbest: 0.4234649 (124)\ttotal: 123ms\tremaining: 357ms\n",
      "128:\tlearn: 0.3564455\ttest: 0.4232967\tbest: 0.4232967 (128)\ttotal: 123ms\tremaining: 355ms\n",
      "129:\tlearn: 0.3559278\ttest: 0.4236091\tbest: 0.4232967 (128)\ttotal: 124ms\tremaining: 353ms\n",
      "130:\tlearn: 0.3554243\ttest: 0.4235617\tbest: 0.4232967 (128)\ttotal: 125ms\tremaining: 351ms\n",
      "131:\tlearn: 0.3551711\ttest: 0.4236021\tbest: 0.4232967 (128)\ttotal: 125ms\tremaining: 349ms\n",
      "132:\tlearn: 0.3549180\ttest: 0.4236578\tbest: 0.4232967 (128)\ttotal: 126ms\tremaining: 347ms\n",
      "133:\tlearn: 0.3546662\ttest: 0.4239480\tbest: 0.4232967 (128)\ttotal: 126ms\tremaining: 345ms\n",
      "134:\tlearn: 0.3539345\ttest: 0.4237804\tbest: 0.4232967 (128)\ttotal: 127ms\tremaining: 343ms\n",
      "135:\tlearn: 0.3533046\ttest: 0.4233901\tbest: 0.4232967 (128)\ttotal: 127ms\tremaining: 341ms\n",
      "136:\tlearn: 0.3526112\ttest: 0.4227135\tbest: 0.4227135 (136)\ttotal: 128ms\tremaining: 339ms\n",
      "137:\tlearn: 0.3524334\ttest: 0.4226551\tbest: 0.4226551 (137)\ttotal: 129ms\tremaining: 337ms\n",
      "138:\tlearn: 0.3522385\ttest: 0.4226717\tbest: 0.4226551 (137)\ttotal: 129ms\tremaining: 335ms\n",
      "139:\tlearn: 0.3516516\ttest: 0.4234755\tbest: 0.4226551 (137)\ttotal: 130ms\tremaining: 333ms\n",
      "140:\tlearn: 0.3508791\ttest: 0.4235227\tbest: 0.4226551 (137)\ttotal: 130ms\tremaining: 332ms\n",
      "141:\tlearn: 0.3502536\ttest: 0.4236106\tbest: 0.4226551 (137)\ttotal: 131ms\tremaining: 330ms\n",
      "142:\tlearn: 0.3500100\ttest: 0.4235217\tbest: 0.4226551 (137)\ttotal: 131ms\tremaining: 328ms\n",
      "143:\tlearn: 0.3490618\ttest: 0.4237512\tbest: 0.4226551 (137)\ttotal: 132ms\tremaining: 326ms\n",
      "144:\tlearn: 0.3484585\ttest: 0.4235931\tbest: 0.4226551 (137)\ttotal: 133ms\tremaining: 324ms\n",
      "145:\tlearn: 0.3476186\ttest: 0.4236635\tbest: 0.4226551 (137)\ttotal: 133ms\tremaining: 323ms\n",
      "146:\tlearn: 0.3469332\ttest: 0.4234539\tbest: 0.4226551 (137)\ttotal: 134ms\tremaining: 321ms\n",
      "147:\tlearn: 0.3465312\ttest: 0.4231795\tbest: 0.4226551 (137)\ttotal: 134ms\tremaining: 319ms\n",
      "148:\tlearn: 0.3455723\ttest: 0.4228521\tbest: 0.4226551 (137)\ttotal: 135ms\tremaining: 318ms\n",
      "149:\tlearn: 0.3450412\ttest: 0.4225196\tbest: 0.4225196 (149)\ttotal: 135ms\tremaining: 316ms\n",
      "150:\tlearn: 0.3446209\ttest: 0.4224317\tbest: 0.4224317 (150)\ttotal: 136ms\tremaining: 314ms\n",
      "151:\tlearn: 0.3443598\ttest: 0.4224925\tbest: 0.4224317 (150)\ttotal: 137ms\tremaining: 313ms\n",
      "152:\tlearn: 0.3441974\ttest: 0.4223505\tbest: 0.4223505 (152)\ttotal: 137ms\tremaining: 311ms\n",
      "153:\tlearn: 0.3435274\ttest: 0.4220524\tbest: 0.4220524 (153)\ttotal: 138ms\tremaining: 309ms\n",
      "154:\tlearn: 0.3427356\ttest: 0.4222167\tbest: 0.4220524 (153)\ttotal: 138ms\tremaining: 308ms\n",
      "155:\tlearn: 0.3424431\ttest: 0.4227277\tbest: 0.4220524 (153)\ttotal: 139ms\tremaining: 306ms\n",
      "156:\tlearn: 0.3420211\ttest: 0.4227858\tbest: 0.4220524 (153)\ttotal: 140ms\tremaining: 305ms\n",
      "157:\tlearn: 0.3410336\ttest: 0.4223777\tbest: 0.4220524 (153)\ttotal: 140ms\tremaining: 303ms\n",
      "158:\tlearn: 0.3406321\ttest: 0.4224172\tbest: 0.4220524 (153)\ttotal: 141ms\tremaining: 302ms\n",
      "159:\tlearn: 0.3404042\ttest: 0.4220374\tbest: 0.4220374 (159)\ttotal: 141ms\tremaining: 300ms\n",
      "160:\tlearn: 0.3402716\ttest: 0.4218475\tbest: 0.4218475 (160)\ttotal: 142ms\tremaining: 299ms\n",
      "161:\tlearn: 0.3394461\ttest: 0.4216576\tbest: 0.4216576 (161)\ttotal: 143ms\tremaining: 298ms\n",
      "162:\tlearn: 0.3390954\ttest: 0.4215054\tbest: 0.4215054 (162)\ttotal: 143ms\tremaining: 296ms\n",
      "163:\tlearn: 0.3381871\ttest: 0.4208359\tbest: 0.4208359 (163)\ttotal: 144ms\tremaining: 295ms\n",
      "164:\tlearn: 0.3379187\ttest: 0.4210810\tbest: 0.4208359 (163)\ttotal: 145ms\tremaining: 293ms\n",
      "165:\tlearn: 0.3376901\ttest: 0.4210962\tbest: 0.4208359 (163)\ttotal: 145ms\tremaining: 292ms\n",
      "166:\tlearn: 0.3372507\ttest: 0.4212423\tbest: 0.4208359 (163)\ttotal: 146ms\tremaining: 291ms\n",
      "167:\tlearn: 0.3363680\ttest: 0.4207724\tbest: 0.4207724 (167)\ttotal: 147ms\tremaining: 290ms\n",
      "168:\tlearn: 0.3361846\ttest: 0.4204808\tbest: 0.4204808 (168)\ttotal: 147ms\tremaining: 288ms\n",
      "169:\tlearn: 0.3356859\ttest: 0.4200345\tbest: 0.4200345 (169)\ttotal: 148ms\tremaining: 287ms\n",
      "170:\tlearn: 0.3355185\ttest: 0.4197627\tbest: 0.4197627 (170)\ttotal: 148ms\tremaining: 286ms\n",
      "171:\tlearn: 0.3347077\ttest: 0.4193524\tbest: 0.4193524 (171)\ttotal: 149ms\tremaining: 284ms\n",
      "172:\tlearn: 0.3341782\ttest: 0.4197696\tbest: 0.4193524 (171)\ttotal: 150ms\tremaining: 283ms\n",
      "173:\tlearn: 0.3335594\ttest: 0.4203110\tbest: 0.4193524 (171)\ttotal: 150ms\tremaining: 282ms\n",
      "174:\tlearn: 0.3327775\ttest: 0.4200765\tbest: 0.4193524 (171)\ttotal: 151ms\tremaining: 280ms\n",
      "175:\tlearn: 0.3324739\ttest: 0.4203072\tbest: 0.4193524 (171)\ttotal: 152ms\tremaining: 279ms\n",
      "176:\tlearn: 0.3323743\ttest: 0.4202384\tbest: 0.4193524 (171)\ttotal: 152ms\tremaining: 278ms\n",
      "177:\tlearn: 0.3318771\ttest: 0.4200820\tbest: 0.4193524 (171)\ttotal: 153ms\tremaining: 276ms\n",
      "178:\tlearn: 0.3317573\ttest: 0.4200855\tbest: 0.4193524 (171)\ttotal: 153ms\tremaining: 275ms\n",
      "179:\tlearn: 0.3316883\ttest: 0.4201829\tbest: 0.4193524 (171)\ttotal: 154ms\tremaining: 274ms\n",
      "180:\tlearn: 0.3311736\ttest: 0.4203466\tbest: 0.4193524 (171)\ttotal: 155ms\tremaining: 273ms\n",
      "181:\tlearn: 0.3308852\ttest: 0.4200305\tbest: 0.4193524 (171)\ttotal: 155ms\tremaining: 271ms\n",
      "182:\tlearn: 0.3303780\ttest: 0.4199550\tbest: 0.4193524 (171)\ttotal: 156ms\tremaining: 270ms\n",
      "183:\tlearn: 0.3299773\ttest: 0.4192492\tbest: 0.4192492 (183)\ttotal: 157ms\tremaining: 269ms\n",
      "184:\tlearn: 0.3294222\ttest: 0.4197944\tbest: 0.4192492 (183)\ttotal: 157ms\tremaining: 268ms\n",
      "185:\tlearn: 0.3289174\ttest: 0.4203367\tbest: 0.4192492 (183)\ttotal: 158ms\tremaining: 266ms\n",
      "186:\tlearn: 0.3285503\ttest: 0.4205683\tbest: 0.4192492 (183)\ttotal: 158ms\tremaining: 265ms\n",
      "187:\tlearn: 0.3280499\ttest: 0.4206036\tbest: 0.4192492 (183)\ttotal: 159ms\tremaining: 264ms\n",
      "188:\tlearn: 0.3276782\ttest: 0.4208872\tbest: 0.4192492 (183)\ttotal: 160ms\tremaining: 263ms\n",
      "189:\tlearn: 0.3272348\ttest: 0.4203815\tbest: 0.4192492 (183)\ttotal: 160ms\tremaining: 261ms\n",
      "190:\tlearn: 0.3270912\ttest: 0.4203719\tbest: 0.4192492 (183)\ttotal: 161ms\tremaining: 260ms\n",
      "191:\tlearn: 0.3265800\ttest: 0.4199847\tbest: 0.4192492 (183)\ttotal: 161ms\tremaining: 259ms\n",
      "192:\tlearn: 0.3259846\ttest: 0.4200238\tbest: 0.4192492 (183)\ttotal: 162ms\tremaining: 258ms\n",
      "193:\tlearn: 0.3255661\ttest: 0.4202909\tbest: 0.4192492 (183)\ttotal: 163ms\tremaining: 256ms\n",
      "194:\tlearn: 0.3254998\ttest: 0.4204060\tbest: 0.4192492 (183)\ttotal: 163ms\tremaining: 255ms\n",
      "195:\tlearn: 0.3250899\ttest: 0.4201771\tbest: 0.4192492 (183)\ttotal: 164ms\tremaining: 254ms\n",
      "196:\tlearn: 0.3244892\ttest: 0.4199528\tbest: 0.4192492 (183)\ttotal: 164ms\tremaining: 253ms\n",
      "197:\tlearn: 0.3241887\ttest: 0.4196370\tbest: 0.4192492 (183)\ttotal: 165ms\tremaining: 252ms\n",
      "198:\tlearn: 0.3238505\ttest: 0.4202401\tbest: 0.4192492 (183)\ttotal: 166ms\tremaining: 250ms\n",
      "199:\tlearn: 0.3232123\ttest: 0.4203882\tbest: 0.4192492 (183)\ttotal: 166ms\tremaining: 249ms\n",
      "200:\tlearn: 0.3228790\ttest: 0.4202971\tbest: 0.4192492 (183)\ttotal: 167ms\tremaining: 248ms\n",
      "201:\tlearn: 0.3222267\ttest: 0.4212198\tbest: 0.4192492 (183)\ttotal: 167ms\tremaining: 247ms\n",
      "202:\tlearn: 0.3217402\ttest: 0.4215415\tbest: 0.4192492 (183)\ttotal: 168ms\tremaining: 246ms\n",
      "203:\tlearn: 0.3214748\ttest: 0.4212591\tbest: 0.4192492 (183)\ttotal: 169ms\tremaining: 246ms\n",
      "204:\tlearn: 0.3212407\ttest: 0.4212637\tbest: 0.4192492 (183)\ttotal: 170ms\tremaining: 245ms\n",
      "205:\tlearn: 0.3209827\ttest: 0.4215174\tbest: 0.4192492 (183)\ttotal: 171ms\tremaining: 244ms\n",
      "206:\tlearn: 0.3203244\ttest: 0.4209532\tbest: 0.4192492 (183)\ttotal: 172ms\tremaining: 244ms\n",
      "207:\tlearn: 0.3198079\ttest: 0.4205857\tbest: 0.4192492 (183)\ttotal: 173ms\tremaining: 243ms\n",
      "208:\tlearn: 0.3192556\ttest: 0.4207256\tbest: 0.4192492 (183)\ttotal: 174ms\tremaining: 243ms\n",
      "209:\tlearn: 0.3191669\ttest: 0.4207826\tbest: 0.4192492 (183)\ttotal: 175ms\tremaining: 242ms\n",
      "210:\tlearn: 0.3187009\ttest: 0.4212332\tbest: 0.4192492 (183)\ttotal: 177ms\tremaining: 242ms\n",
      "211:\tlearn: 0.3181004\ttest: 0.4207290\tbest: 0.4192492 (183)\ttotal: 178ms\tremaining: 241ms\n",
      "212:\tlearn: 0.3177677\ttest: 0.4212463\tbest: 0.4192492 (183)\ttotal: 179ms\tremaining: 241ms\n",
      "213:\tlearn: 0.3175170\ttest: 0.4210610\tbest: 0.4192492 (183)\ttotal: 180ms\tremaining: 240ms\n",
      "214:\tlearn: 0.3168797\ttest: 0.4212234\tbest: 0.4192492 (183)\ttotal: 181ms\tremaining: 240ms\n",
      "215:\tlearn: 0.3164231\ttest: 0.4209789\tbest: 0.4192492 (183)\ttotal: 182ms\tremaining: 239ms\n",
      "216:\tlearn: 0.3162086\ttest: 0.4208490\tbest: 0.4192492 (183)\ttotal: 183ms\tremaining: 239ms\n",
      "217:\tlearn: 0.3160591\ttest: 0.4206293\tbest: 0.4192492 (183)\ttotal: 184ms\tremaining: 238ms\n",
      "218:\tlearn: 0.3159108\ttest: 0.4206978\tbest: 0.4192492 (183)\ttotal: 186ms\tremaining: 238ms\n",
      "219:\tlearn: 0.3152561\ttest: 0.4205455\tbest: 0.4192492 (183)\ttotal: 196ms\tremaining: 250ms\n",
      "220:\tlearn: 0.3148392\ttest: 0.4210515\tbest: 0.4192492 (183)\ttotal: 197ms\tremaining: 249ms\n",
      "221:\tlearn: 0.3140129\ttest: 0.4207495\tbest: 0.4192492 (183)\ttotal: 198ms\tremaining: 249ms\n",
      "222:\tlearn: 0.3134919\ttest: 0.4205988\tbest: 0.4192492 (183)\ttotal: 199ms\tremaining: 248ms\n",
      "223:\tlearn: 0.3133146\ttest: 0.4204733\tbest: 0.4192492 (183)\ttotal: 200ms\tremaining: 247ms\n",
      "224:\tlearn: 0.3128870\ttest: 0.4205380\tbest: 0.4192492 (183)\ttotal: 201ms\tremaining: 246ms\n",
      "225:\tlearn: 0.3125223\ttest: 0.4207471\tbest: 0.4192492 (183)\ttotal: 202ms\tremaining: 245ms\n",
      "226:\tlearn: 0.3122238\ttest: 0.4204740\tbest: 0.4192492 (183)\ttotal: 203ms\tremaining: 244ms\n",
      "227:\tlearn: 0.3121771\ttest: 0.4205502\tbest: 0.4192492 (183)\ttotal: 204ms\tremaining: 243ms\n",
      "228:\tlearn: 0.3115960\ttest: 0.4207211\tbest: 0.4192492 (183)\ttotal: 204ms\tremaining: 242ms\n",
      "229:\tlearn: 0.3112783\ttest: 0.4206778\tbest: 0.4192492 (183)\ttotal: 205ms\tremaining: 241ms\n",
      "230:\tlearn: 0.3110914\ttest: 0.4206868\tbest: 0.4192492 (183)\ttotal: 206ms\tremaining: 239ms\n",
      "231:\tlearn: 0.3103952\ttest: 0.4203403\tbest: 0.4192492 (183)\ttotal: 206ms\tremaining: 238ms\n",
      "232:\tlearn: 0.3100707\ttest: 0.4199998\tbest: 0.4192492 (183)\ttotal: 207ms\tremaining: 237ms\n",
      "233:\tlearn: 0.3096498\ttest: 0.4200442\tbest: 0.4192492 (183)\ttotal: 207ms\tremaining: 236ms\n",
      "234:\tlearn: 0.3090790\ttest: 0.4211472\tbest: 0.4192492 (183)\ttotal: 208ms\tremaining: 235ms\n",
      "235:\tlearn: 0.3084311\ttest: 0.4215846\tbest: 0.4192492 (183)\ttotal: 209ms\tremaining: 233ms\n",
      "236:\tlearn: 0.3080858\ttest: 0.4219825\tbest: 0.4192492 (183)\ttotal: 209ms\tremaining: 232ms\n",
      "237:\tlearn: 0.3080424\ttest: 0.4220657\tbest: 0.4192492 (183)\ttotal: 210ms\tremaining: 231ms\n",
      "238:\tlearn: 0.3079277\ttest: 0.4220477\tbest: 0.4192492 (183)\ttotal: 210ms\tremaining: 230ms\n",
      "239:\tlearn: 0.3075548\ttest: 0.4218746\tbest: 0.4192492 (183)\ttotal: 211ms\tremaining: 229ms\n",
      "240:\tlearn: 0.3074882\ttest: 0.4218276\tbest: 0.4192492 (183)\ttotal: 212ms\tremaining: 227ms\n",
      "241:\tlearn: 0.3070897\ttest: 0.4219666\tbest: 0.4192492 (183)\ttotal: 212ms\tremaining: 226ms\n",
      "242:\tlearn: 0.3067725\ttest: 0.4219072\tbest: 0.4192492 (183)\ttotal: 213ms\tremaining: 225ms\n",
      "243:\tlearn: 0.3066857\ttest: 0.4220663\tbest: 0.4192492 (183)\ttotal: 213ms\tremaining: 224ms\n",
      "244:\tlearn: 0.3065014\ttest: 0.4222440\tbest: 0.4192492 (183)\ttotal: 214ms\tremaining: 223ms\n",
      "245:\tlearn: 0.3064631\ttest: 0.4223255\tbest: 0.4192492 (183)\ttotal: 215ms\tremaining: 222ms\n",
      "246:\tlearn: 0.3060746\ttest: 0.4227359\tbest: 0.4192492 (183)\ttotal: 215ms\tremaining: 220ms\n",
      "247:\tlearn: 0.3060417\ttest: 0.4228478\tbest: 0.4192492 (183)\ttotal: 216ms\tremaining: 219ms\n",
      "248:\tlearn: 0.3055270\ttest: 0.4227804\tbest: 0.4192492 (183)\ttotal: 216ms\tremaining: 218ms\n",
      "249:\tlearn: 0.3052019\ttest: 0.4231698\tbest: 0.4192492 (183)\ttotal: 217ms\tremaining: 217ms\n",
      "250:\tlearn: 0.3048221\ttest: 0.4236523\tbest: 0.4192492 (183)\ttotal: 218ms\tremaining: 216ms\n",
      "251:\tlearn: 0.3044710\ttest: 0.4234000\tbest: 0.4192492 (183)\ttotal: 218ms\tremaining: 215ms\n",
      "252:\tlearn: 0.3041173\ttest: 0.4233400\tbest: 0.4192492 (183)\ttotal: 219ms\tremaining: 214ms\n",
      "253:\tlearn: 0.3037671\ttest: 0.4238189\tbest: 0.4192492 (183)\ttotal: 219ms\tremaining: 213ms\n",
      "254:\tlearn: 0.3031557\ttest: 0.4240711\tbest: 0.4192492 (183)\ttotal: 220ms\tremaining: 211ms\n",
      "255:\tlearn: 0.3028705\ttest: 0.4244435\tbest: 0.4192492 (183)\ttotal: 221ms\tremaining: 210ms\n",
      "256:\tlearn: 0.3023103\ttest: 0.4247178\tbest: 0.4192492 (183)\ttotal: 221ms\tremaining: 209ms\n",
      "257:\tlearn: 0.3018728\ttest: 0.4250290\tbest: 0.4192492 (183)\ttotal: 222ms\tremaining: 208ms\n",
      "258:\tlearn: 0.3017009\ttest: 0.4247672\tbest: 0.4192492 (183)\ttotal: 222ms\tremaining: 207ms\n",
      "259:\tlearn: 0.3013444\ttest: 0.4252671\tbest: 0.4192492 (183)\ttotal: 223ms\tremaining: 206ms\n",
      "260:\tlearn: 0.3011255\ttest: 0.4251002\tbest: 0.4192492 (183)\ttotal: 223ms\tremaining: 205ms\n",
      "261:\tlearn: 0.3004947\ttest: 0.4249169\tbest: 0.4192492 (183)\ttotal: 224ms\tremaining: 204ms\n",
      "262:\tlearn: 0.3004431\ttest: 0.4248711\tbest: 0.4192492 (183)\ttotal: 225ms\tremaining: 202ms\n",
      "263:\tlearn: 0.3002717\ttest: 0.4247455\tbest: 0.4192492 (183)\ttotal: 225ms\tremaining: 201ms\n",
      "264:\tlearn: 0.2998243\ttest: 0.4249631\tbest: 0.4192492 (183)\ttotal: 226ms\tremaining: 200ms\n"
     ]
    },
    {
     "name": "stdout",
     "output_type": "stream",
     "text": [
      "265:\tlearn: 0.2996677\ttest: 0.4247261\tbest: 0.4192492 (183)\ttotal: 227ms\tremaining: 200ms\n",
      "266:\tlearn: 0.2996346\ttest: 0.4247969\tbest: 0.4192492 (183)\ttotal: 229ms\tremaining: 199ms\n",
      "267:\tlearn: 0.2992156\ttest: 0.4249782\tbest: 0.4192492 (183)\ttotal: 230ms\tremaining: 199ms\n",
      "268:\tlearn: 0.2986100\ttest: 0.4245291\tbest: 0.4192492 (183)\ttotal: 231ms\tremaining: 198ms\n",
      "269:\tlearn: 0.2981569\ttest: 0.4241788\tbest: 0.4192492 (183)\ttotal: 232ms\tremaining: 198ms\n",
      "270:\tlearn: 0.2980132\ttest: 0.4240777\tbest: 0.4192492 (183)\ttotal: 233ms\tremaining: 197ms\n",
      "271:\tlearn: 0.2977018\ttest: 0.4245742\tbest: 0.4192492 (183)\ttotal: 235ms\tremaining: 197ms\n",
      "272:\tlearn: 0.2975479\ttest: 0.4243389\tbest: 0.4192492 (183)\ttotal: 236ms\tremaining: 196ms\n",
      "273:\tlearn: 0.2972782\ttest: 0.4241916\tbest: 0.4192492 (183)\ttotal: 237ms\tremaining: 195ms\n",
      "274:\tlearn: 0.2967267\ttest: 0.4237777\tbest: 0.4192492 (183)\ttotal: 238ms\tremaining: 195ms\n",
      "275:\tlearn: 0.2960888\ttest: 0.4237740\tbest: 0.4192492 (183)\ttotal: 239ms\tremaining: 194ms\n",
      "276:\tlearn: 0.2955808\ttest: 0.4237592\tbest: 0.4192492 (183)\ttotal: 240ms\tremaining: 194ms\n",
      "277:\tlearn: 0.2950937\ttest: 0.4247396\tbest: 0.4192492 (183)\ttotal: 242ms\tremaining: 193ms\n",
      "278:\tlearn: 0.2948382\ttest: 0.4247437\tbest: 0.4192492 (183)\ttotal: 243ms\tremaining: 192ms\n",
      "279:\tlearn: 0.2944417\ttest: 0.4244274\tbest: 0.4192492 (183)\ttotal: 244ms\tremaining: 192ms\n",
      "280:\tlearn: 0.2939372\ttest: 0.4243159\tbest: 0.4192492 (183)\ttotal: 246ms\tremaining: 192ms\n",
      "281:\tlearn: 0.2932868\ttest: 0.4240904\tbest: 0.4192492 (183)\ttotal: 247ms\tremaining: 191ms\n",
      "282:\tlearn: 0.2931455\ttest: 0.4243950\tbest: 0.4192492 (183)\ttotal: 248ms\tremaining: 190ms\n",
      "283:\tlearn: 0.2927953\ttest: 0.4245047\tbest: 0.4192492 (183)\ttotal: 250ms\tremaining: 190ms\n",
      "284:\tlearn: 0.2925132\ttest: 0.4249860\tbest: 0.4192492 (183)\ttotal: 251ms\tremaining: 189ms\n",
      "285:\tlearn: 0.2920508\ttest: 0.4248181\tbest: 0.4192492 (183)\ttotal: 252ms\tremaining: 189ms\n",
      "286:\tlearn: 0.2917838\ttest: 0.4250529\tbest: 0.4192492 (183)\ttotal: 253ms\tremaining: 188ms\n",
      "287:\tlearn: 0.2916628\ttest: 0.4250115\tbest: 0.4192492 (183)\ttotal: 255ms\tremaining: 187ms\n",
      "288:\tlearn: 0.2913554\ttest: 0.4249514\tbest: 0.4192492 (183)\ttotal: 256ms\tremaining: 187ms\n",
      "289:\tlearn: 0.2909142\ttest: 0.4251766\tbest: 0.4192492 (183)\ttotal: 257ms\tremaining: 186ms\n",
      "290:\tlearn: 0.2905405\ttest: 0.4257036\tbest: 0.4192492 (183)\ttotal: 259ms\tremaining: 186ms\n",
      "291:\tlearn: 0.2901436\ttest: 0.4254815\tbest: 0.4192492 (183)\ttotal: 260ms\tremaining: 185ms\n",
      "292:\tlearn: 0.2898806\ttest: 0.4259518\tbest: 0.4192492 (183)\ttotal: 261ms\tremaining: 184ms\n",
      "293:\tlearn: 0.2894627\ttest: 0.4259811\tbest: 0.4192492 (183)\ttotal: 262ms\tremaining: 184ms\n",
      "294:\tlearn: 0.2891829\ttest: 0.4255866\tbest: 0.4192492 (183)\ttotal: 263ms\tremaining: 183ms\n",
      "295:\tlearn: 0.2890596\ttest: 0.4254573\tbest: 0.4192492 (183)\ttotal: 264ms\tremaining: 182ms\n",
      "296:\tlearn: 0.2889314\ttest: 0.4252534\tbest: 0.4192492 (183)\ttotal: 265ms\tremaining: 181ms\n",
      "297:\tlearn: 0.2884804\ttest: 0.4248954\tbest: 0.4192492 (183)\ttotal: 267ms\tremaining: 181ms\n",
      "298:\tlearn: 0.2883523\ttest: 0.4247882\tbest: 0.4192492 (183)\ttotal: 268ms\tremaining: 180ms\n",
      "299:\tlearn: 0.2880261\ttest: 0.4252784\tbest: 0.4192492 (183)\ttotal: 269ms\tremaining: 179ms\n",
      "300:\tlearn: 0.2878822\ttest: 0.4253348\tbest: 0.4192492 (183)\ttotal: 274ms\tremaining: 181ms\n",
      "301:\tlearn: 0.2877900\ttest: 0.4254129\tbest: 0.4192492 (183)\ttotal: 275ms\tremaining: 180ms\n",
      "302:\tlearn: 0.2875097\ttest: 0.4254913\tbest: 0.4192492 (183)\ttotal: 277ms\tremaining: 180ms\n",
      "303:\tlearn: 0.2871346\ttest: 0.4255511\tbest: 0.4192492 (183)\ttotal: 279ms\tremaining: 180ms\n",
      "304:\tlearn: 0.2869074\ttest: 0.4256155\tbest: 0.4192492 (183)\ttotal: 280ms\tremaining: 179ms\n",
      "305:\tlearn: 0.2866869\ttest: 0.4258497\tbest: 0.4192492 (183)\ttotal: 281ms\tremaining: 178ms\n",
      "306:\tlearn: 0.2866607\ttest: 0.4259343\tbest: 0.4192492 (183)\ttotal: 282ms\tremaining: 177ms\n",
      "307:\tlearn: 0.2862458\ttest: 0.4259223\tbest: 0.4192492 (183)\ttotal: 283ms\tremaining: 177ms\n",
      "308:\tlearn: 0.2862205\ttest: 0.4260060\tbest: 0.4192492 (183)\ttotal: 284ms\tremaining: 176ms\n",
      "309:\tlearn: 0.2859152\ttest: 0.4264845\tbest: 0.4192492 (183)\ttotal: 286ms\tremaining: 175ms\n",
      "310:\tlearn: 0.2853683\ttest: 0.4262869\tbest: 0.4192492 (183)\ttotal: 287ms\tremaining: 174ms\n",
      "311:\tlearn: 0.2849730\ttest: 0.4267098\tbest: 0.4192492 (183)\ttotal: 288ms\tremaining: 173ms\n",
      "312:\tlearn: 0.2845713\ttest: 0.4265679\tbest: 0.4192492 (183)\ttotal: 289ms\tremaining: 173ms\n",
      "313:\tlearn: 0.2842372\ttest: 0.4266412\tbest: 0.4192492 (183)\ttotal: 290ms\tremaining: 172ms\n",
      "314:\tlearn: 0.2838158\ttest: 0.4276408\tbest: 0.4192492 (183)\ttotal: 291ms\tremaining: 171ms\n",
      "315:\tlearn: 0.2835096\ttest: 0.4279046\tbest: 0.4192492 (183)\ttotal: 292ms\tremaining: 170ms\n",
      "316:\tlearn: 0.2831356\ttest: 0.4281459\tbest: 0.4192492 (183)\ttotal: 293ms\tremaining: 169ms\n",
      "317:\tlearn: 0.2828421\ttest: 0.4279498\tbest: 0.4192492 (183)\ttotal: 294ms\tremaining: 168ms\n",
      "318:\tlearn: 0.2826603\ttest: 0.4279899\tbest: 0.4192492 (183)\ttotal: 295ms\tremaining: 168ms\n",
      "319:\tlearn: 0.2824410\ttest: 0.4279945\tbest: 0.4192492 (183)\ttotal: 296ms\tremaining: 166ms\n",
      "320:\tlearn: 0.2821300\ttest: 0.4283057\tbest: 0.4192492 (183)\ttotal: 297ms\tremaining: 166ms\n",
      "321:\tlearn: 0.2818498\ttest: 0.4288058\tbest: 0.4192492 (183)\ttotal: 298ms\tremaining: 165ms\n",
      "322:\tlearn: 0.2814198\ttest: 0.4291242\tbest: 0.4192492 (183)\ttotal: 299ms\tremaining: 164ms\n",
      "323:\tlearn: 0.2810872\ttest: 0.4296973\tbest: 0.4192492 (183)\ttotal: 300ms\tremaining: 163ms\n",
      "324:\tlearn: 0.2807663\ttest: 0.4299346\tbest: 0.4192492 (183)\ttotal: 301ms\tremaining: 162ms\n",
      "325:\tlearn: 0.2806522\ttest: 0.4300089\tbest: 0.4192492 (183)\ttotal: 302ms\tremaining: 161ms\n",
      "326:\tlearn: 0.2804675\ttest: 0.4299499\tbest: 0.4192492 (183)\ttotal: 303ms\tremaining: 160ms\n",
      "327:\tlearn: 0.2800924\ttest: 0.4299082\tbest: 0.4192492 (183)\ttotal: 304ms\tremaining: 159ms\n",
      "328:\tlearn: 0.2800714\ttest: 0.4299006\tbest: 0.4192492 (183)\ttotal: 305ms\tremaining: 158ms\n",
      "329:\tlearn: 0.2799025\ttest: 0.4296459\tbest: 0.4192492 (183)\ttotal: 306ms\tremaining: 158ms\n",
      "330:\tlearn: 0.2798138\ttest: 0.4295877\tbest: 0.4192492 (183)\ttotal: 307ms\tremaining: 157ms\n",
      "331:\tlearn: 0.2796085\ttest: 0.4295551\tbest: 0.4192492 (183)\ttotal: 308ms\tremaining: 156ms\n",
      "332:\tlearn: 0.2794050\ttest: 0.4295684\tbest: 0.4192492 (183)\ttotal: 309ms\tremaining: 155ms\n",
      "333:\tlearn: 0.2792149\ttest: 0.4295875\tbest: 0.4192492 (183)\ttotal: 310ms\tremaining: 154ms\n",
      "334:\tlearn: 0.2789962\ttest: 0.4297658\tbest: 0.4192492 (183)\ttotal: 311ms\tremaining: 153ms\n",
      "335:\tlearn: 0.2786628\ttest: 0.4298264\tbest: 0.4192492 (183)\ttotal: 312ms\tremaining: 152ms\n",
      "336:\tlearn: 0.2782873\ttest: 0.4295329\tbest: 0.4192492 (183)\ttotal: 313ms\tremaining: 151ms\n",
      "337:\tlearn: 0.2780208\ttest: 0.4298582\tbest: 0.4192492 (183)\ttotal: 313ms\tremaining: 150ms\n",
      "338:\tlearn: 0.2777757\ttest: 0.4301779\tbest: 0.4192492 (183)\ttotal: 314ms\tremaining: 149ms\n",
      "339:\tlearn: 0.2772445\ttest: 0.4310319\tbest: 0.4192492 (183)\ttotal: 315ms\tremaining: 148ms\n",
      "340:\tlearn: 0.2767062\ttest: 0.4311170\tbest: 0.4192492 (183)\ttotal: 316ms\tremaining: 147ms\n",
      "341:\tlearn: 0.2766230\ttest: 0.4310965\tbest: 0.4192492 (183)\ttotal: 317ms\tremaining: 147ms\n",
      "342:\tlearn: 0.2763778\ttest: 0.4316175\tbest: 0.4192492 (183)\ttotal: 318ms\tremaining: 146ms\n",
      "343:\tlearn: 0.2761937\ttest: 0.4316259\tbest: 0.4192492 (183)\ttotal: 319ms\tremaining: 145ms\n",
      "344:\tlearn: 0.2759361\ttest: 0.4317349\tbest: 0.4192492 (183)\ttotal: 321ms\tremaining: 144ms\n",
      "345:\tlearn: 0.2758032\ttest: 0.4316104\tbest: 0.4192492 (183)\ttotal: 322ms\tremaining: 144ms\n",
      "346:\tlearn: 0.2754979\ttest: 0.4314757\tbest: 0.4192492 (183)\ttotal: 324ms\tremaining: 143ms\n",
      "347:\tlearn: 0.2751780\ttest: 0.4319302\tbest: 0.4192492 (183)\ttotal: 325ms\tremaining: 142ms\n",
      "348:\tlearn: 0.2749557\ttest: 0.4317870\tbest: 0.4192492 (183)\ttotal: 326ms\tremaining: 141ms\n",
      "349:\tlearn: 0.2744933\ttest: 0.4326120\tbest: 0.4192492 (183)\ttotal: 328ms\tremaining: 141ms\n",
      "350:\tlearn: 0.2742748\ttest: 0.4331394\tbest: 0.4192492 (183)\ttotal: 329ms\tremaining: 140ms\n",
      "351:\tlearn: 0.2741030\ttest: 0.4331699\tbest: 0.4192492 (183)\ttotal: 329ms\tremaining: 138ms\n",
      "352:\tlearn: 0.2738800\ttest: 0.4332311\tbest: 0.4192492 (183)\ttotal: 330ms\tremaining: 137ms\n",
      "353:\tlearn: 0.2737305\ttest: 0.4333361\tbest: 0.4192492 (183)\ttotal: 330ms\tremaining: 136ms\n",
      "354:\tlearn: 0.2733132\ttest: 0.4341338\tbest: 0.4192492 (183)\ttotal: 331ms\tremaining: 135ms\n",
      "355:\tlearn: 0.2728840\ttest: 0.4344520\tbest: 0.4192492 (183)\ttotal: 332ms\tremaining: 134ms\n",
      "356:\tlearn: 0.2728156\ttest: 0.4345859\tbest: 0.4192492 (183)\ttotal: 332ms\tremaining: 133ms\n",
      "357:\tlearn: 0.2727365\ttest: 0.4345587\tbest: 0.4192492 (183)\ttotal: 333ms\tremaining: 132ms\n",
      "358:\tlearn: 0.2724990\ttest: 0.4349322\tbest: 0.4192492 (183)\ttotal: 334ms\tremaining: 131ms\n",
      "359:\tlearn: 0.2721398\ttest: 0.4350596\tbest: 0.4192492 (183)\ttotal: 334ms\tremaining: 130ms\n",
      "360:\tlearn: 0.2719481\ttest: 0.4349077\tbest: 0.4192492 (183)\ttotal: 335ms\tremaining: 129ms\n",
      "361:\tlearn: 0.2716395\ttest: 0.4351593\tbest: 0.4192492 (183)\ttotal: 335ms\tremaining: 128ms\n",
      "362:\tlearn: 0.2713706\ttest: 0.4357697\tbest: 0.4192492 (183)\ttotal: 336ms\tremaining: 127ms\n",
      "363:\tlearn: 0.2712929\ttest: 0.4357172\tbest: 0.4192492 (183)\ttotal: 337ms\tremaining: 126ms\n",
      "364:\tlearn: 0.2710045\ttest: 0.4354843\tbest: 0.4192492 (183)\ttotal: 337ms\tremaining: 125ms\n",
      "365:\tlearn: 0.2706706\ttest: 0.4359191\tbest: 0.4192492 (183)\ttotal: 338ms\tremaining: 124ms\n",
      "366:\tlearn: 0.2703527\ttest: 0.4363918\tbest: 0.4192492 (183)\ttotal: 338ms\tremaining: 123ms\n",
      "367:\tlearn: 0.2698570\ttest: 0.4361849\tbest: 0.4192492 (183)\ttotal: 339ms\tremaining: 121ms\n",
      "368:\tlearn: 0.2695478\ttest: 0.4363437\tbest: 0.4192492 (183)\ttotal: 339ms\tremaining: 120ms\n",
      "369:\tlearn: 0.2693161\ttest: 0.4366294\tbest: 0.4192492 (183)\ttotal: 340ms\tremaining: 119ms\n",
      "370:\tlearn: 0.2690392\ttest: 0.4367109\tbest: 0.4192492 (183)\ttotal: 340ms\tremaining: 118ms\n",
      "371:\tlearn: 0.2689561\ttest: 0.4366927\tbest: 0.4192492 (183)\ttotal: 341ms\tremaining: 117ms\n",
      "372:\tlearn: 0.2685950\ttest: 0.4370555\tbest: 0.4192492 (183)\ttotal: 341ms\tremaining: 116ms\n",
      "373:\tlearn: 0.2685820\ttest: 0.4370327\tbest: 0.4192492 (183)\ttotal: 342ms\tremaining: 115ms\n",
      "374:\tlearn: 0.2685649\ttest: 0.4370900\tbest: 0.4192492 (183)\ttotal: 342ms\tremaining: 114ms\n",
      "375:\tlearn: 0.2683177\ttest: 0.4371148\tbest: 0.4192492 (183)\ttotal: 344ms\tremaining: 113ms\n",
      "376:\tlearn: 0.2680934\ttest: 0.4375674\tbest: 0.4192492 (183)\ttotal: 344ms\tremaining: 112ms\n",
      "377:\tlearn: 0.2678282\ttest: 0.4378539\tbest: 0.4192492 (183)\ttotal: 345ms\tremaining: 111ms\n",
      "378:\tlearn: 0.2676285\ttest: 0.4380112\tbest: 0.4192492 (183)\ttotal: 346ms\tremaining: 110ms\n",
      "379:\tlearn: 0.2675375\ttest: 0.4379019\tbest: 0.4192492 (183)\ttotal: 346ms\tremaining: 109ms\n",
      "380:\tlearn: 0.2671967\ttest: 0.4384729\tbest: 0.4192492 (183)\ttotal: 347ms\tremaining: 108ms\n",
      "381:\tlearn: 0.2669239\ttest: 0.4386123\tbest: 0.4192492 (183)\ttotal: 347ms\tremaining: 107ms\n",
      "382:\tlearn: 0.2666623\ttest: 0.4388365\tbest: 0.4192492 (183)\ttotal: 348ms\tremaining: 106ms\n",
      "383:\tlearn: 0.2664801\ttest: 0.4389992\tbest: 0.4192492 (183)\ttotal: 348ms\tremaining: 105ms\n",
      "384:\tlearn: 0.2663237\ttest: 0.4395559\tbest: 0.4192492 (183)\ttotal: 349ms\tremaining: 104ms\n",
      "385:\tlearn: 0.2661417\ttest: 0.4398243\tbest: 0.4192492 (183)\ttotal: 349ms\tremaining: 103ms\n",
      "386:\tlearn: 0.2659051\ttest: 0.4402135\tbest: 0.4192492 (183)\ttotal: 350ms\tremaining: 102ms\n",
      "387:\tlearn: 0.2658228\ttest: 0.4404708\tbest: 0.4192492 (183)\ttotal: 351ms\tremaining: 101ms\n",
      "388:\tlearn: 0.2656357\ttest: 0.4409050\tbest: 0.4192492 (183)\ttotal: 351ms\tremaining: 100ms\n",
      "389:\tlearn: 0.2653168\ttest: 0.4414182\tbest: 0.4192492 (183)\ttotal: 352ms\tremaining: 99.3ms\n",
      "390:\tlearn: 0.2650665\ttest: 0.4415451\tbest: 0.4192492 (183)\ttotal: 353ms\tremaining: 98.3ms\n",
      "391:\tlearn: 0.2648254\ttest: 0.4414027\tbest: 0.4192492 (183)\ttotal: 353ms\tremaining: 97.3ms\n",
      "392:\tlearn: 0.2647433\ttest: 0.4416406\tbest: 0.4192492 (183)\ttotal: 354ms\tremaining: 96.3ms\n",
      "393:\tlearn: 0.2645715\ttest: 0.4420614\tbest: 0.4192492 (183)\ttotal: 354ms\tremaining: 95.3ms\n",
      "394:\tlearn: 0.2643183\ttest: 0.4420404\tbest: 0.4192492 (183)\ttotal: 355ms\tremaining: 94.3ms\n",
      "395:\tlearn: 0.2641523\ttest: 0.4420388\tbest: 0.4192492 (183)\ttotal: 355ms\tremaining: 93.3ms\n",
      "396:\tlearn: 0.2638167\ttest: 0.4421959\tbest: 0.4192492 (183)\ttotal: 356ms\tremaining: 92.3ms\n",
      "397:\tlearn: 0.2635728\ttest: 0.4420569\tbest: 0.4192492 (183)\ttotal: 356ms\tremaining: 91.3ms\n",
      "398:\tlearn: 0.2633315\ttest: 0.4423028\tbest: 0.4192492 (183)\ttotal: 357ms\tremaining: 90.3ms\n",
      "399:\tlearn: 0.2631001\ttest: 0.4424568\tbest: 0.4192492 (183)\ttotal: 357ms\tremaining: 89.3ms\n",
      "400:\tlearn: 0.2627867\ttest: 0.4424791\tbest: 0.4192492 (183)\ttotal: 358ms\tremaining: 88.4ms\n",
      "401:\tlearn: 0.2626586\ttest: 0.4427103\tbest: 0.4192492 (183)\ttotal: 359ms\tremaining: 87.4ms\n",
      "402:\tlearn: 0.2624604\ttest: 0.4426910\tbest: 0.4192492 (183)\ttotal: 359ms\tremaining: 86.4ms\n",
      "403:\tlearn: 0.2620423\ttest: 0.4425857\tbest: 0.4192492 (183)\ttotal: 360ms\tremaining: 85.5ms\n",
      "404:\tlearn: 0.2618705\ttest: 0.4425090\tbest: 0.4192492 (183)\ttotal: 360ms\tremaining: 84.5ms\n",
      "405:\tlearn: 0.2616154\ttest: 0.4430606\tbest: 0.4192492 (183)\ttotal: 361ms\tremaining: 83.5ms\n",
      "406:\tlearn: 0.2615628\ttest: 0.4429159\tbest: 0.4192492 (183)\ttotal: 361ms\tremaining: 82.6ms\n",
      "407:\tlearn: 0.2613741\ttest: 0.4438563\tbest: 0.4192492 (183)\ttotal: 362ms\tremaining: 81.6ms\n",
      "408:\tlearn: 0.2610004\ttest: 0.4447954\tbest: 0.4192492 (183)\ttotal: 362ms\tremaining: 80.6ms\n",
      "409:\tlearn: 0.2608369\ttest: 0.4445994\tbest: 0.4192492 (183)\ttotal: 363ms\tremaining: 79.7ms\n",
      "410:\tlearn: 0.2606033\ttest: 0.4444718\tbest: 0.4192492 (183)\ttotal: 364ms\tremaining: 78.7ms\n",
      "411:\tlearn: 0.2601727\ttest: 0.4446294\tbest: 0.4192492 (183)\ttotal: 364ms\tremaining: 77.8ms\n",
      "412:\tlearn: 0.2597799\ttest: 0.4445484\tbest: 0.4192492 (183)\ttotal: 365ms\tremaining: 76.8ms\n",
      "413:\tlearn: 0.2596194\ttest: 0.4446328\tbest: 0.4192492 (183)\ttotal: 365ms\tremaining: 75.9ms\n",
      "414:\tlearn: 0.2593748\ttest: 0.4452424\tbest: 0.4192492 (183)\ttotal: 366ms\tremaining: 74.9ms\n",
      "415:\tlearn: 0.2590964\ttest: 0.4451149\tbest: 0.4192492 (183)\ttotal: 366ms\tremaining: 74ms\n",
      "416:\tlearn: 0.2587415\ttest: 0.4450598\tbest: 0.4192492 (183)\ttotal: 367ms\tremaining: 73.1ms\n",
      "417:\tlearn: 0.2585447\ttest: 0.4448877\tbest: 0.4192492 (183)\ttotal: 368ms\tremaining: 72.1ms\n",
      "418:\tlearn: 0.2582674\ttest: 0.4446839\tbest: 0.4192492 (183)\ttotal: 368ms\tremaining: 71.2ms\n",
      "419:\tlearn: 0.2582029\ttest: 0.4443905\tbest: 0.4192492 (183)\ttotal: 369ms\tremaining: 70.2ms\n",
      "420:\tlearn: 0.2580180\ttest: 0.4443754\tbest: 0.4192492 (183)\ttotal: 369ms\tremaining: 69.3ms\n",
      "421:\tlearn: 0.2576544\ttest: 0.4444442\tbest: 0.4192492 (183)\ttotal: 370ms\tremaining: 68.4ms\n",
      "422:\tlearn: 0.2576035\ttest: 0.4444576\tbest: 0.4192492 (183)\ttotal: 371ms\tremaining: 67.4ms\n",
      "423:\tlearn: 0.2573755\ttest: 0.4442670\tbest: 0.4192492 (183)\ttotal: 371ms\tremaining: 66.5ms\n",
      "424:\tlearn: 0.2570505\ttest: 0.4442350\tbest: 0.4192492 (183)\ttotal: 372ms\tremaining: 65.6ms\n",
      "425:\tlearn: 0.2568728\ttest: 0.4445143\tbest: 0.4192492 (183)\ttotal: 372ms\tremaining: 64.7ms\n",
      "426:\tlearn: 0.2567288\ttest: 0.4445385\tbest: 0.4192492 (183)\ttotal: 373ms\tremaining: 63.8ms\n",
      "427:\tlearn: 0.2564305\ttest: 0.4442920\tbest: 0.4192492 (183)\ttotal: 374ms\tremaining: 62.8ms\n",
      "428:\tlearn: 0.2562584\ttest: 0.4442955\tbest: 0.4192492 (183)\ttotal: 374ms\tremaining: 61.9ms\n",
      "429:\tlearn: 0.2560598\ttest: 0.4444480\tbest: 0.4192492 (183)\ttotal: 375ms\tremaining: 61ms\n",
      "430:\tlearn: 0.2558725\ttest: 0.4442494\tbest: 0.4192492 (183)\ttotal: 375ms\tremaining: 60.1ms\n",
      "431:\tlearn: 0.2558426\ttest: 0.4442092\tbest: 0.4192492 (183)\ttotal: 376ms\tremaining: 59.2ms\n",
      "432:\tlearn: 0.2555117\ttest: 0.4442890\tbest: 0.4192492 (183)\ttotal: 376ms\tremaining: 58.3ms\n",
      "433:\tlearn: 0.2554016\ttest: 0.4442022\tbest: 0.4192492 (183)\ttotal: 377ms\tremaining: 57.3ms\n",
      "434:\tlearn: 0.2552041\ttest: 0.4441236\tbest: 0.4192492 (183)\ttotal: 378ms\tremaining: 56.4ms\n",
      "435:\tlearn: 0.2549994\ttest: 0.4444722\tbest: 0.4192492 (183)\ttotal: 378ms\tremaining: 55.5ms\n",
      "436:\tlearn: 0.2546935\ttest: 0.4448419\tbest: 0.4192492 (183)\ttotal: 379ms\tremaining: 54.6ms\n",
      "437:\tlearn: 0.2545913\ttest: 0.4453171\tbest: 0.4192492 (183)\ttotal: 379ms\tremaining: 53.7ms\n",
      "438:\tlearn: 0.2544869\ttest: 0.4455539\tbest: 0.4192492 (183)\ttotal: 380ms\tremaining: 52.8ms\n",
      "439:\tlearn: 0.2542396\ttest: 0.4453655\tbest: 0.4192492 (183)\ttotal: 381ms\tremaining: 51.9ms\n",
      "440:\tlearn: 0.2540551\ttest: 0.4454410\tbest: 0.4192492 (183)\ttotal: 381ms\tremaining: 51ms\n",
      "441:\tlearn: 0.2539893\ttest: 0.4456874\tbest: 0.4192492 (183)\ttotal: 382ms\tremaining: 50.1ms\n",
      "442:\tlearn: 0.2537075\ttest: 0.4460567\tbest: 0.4192492 (183)\ttotal: 382ms\tremaining: 49.2ms\n",
      "443:\tlearn: 0.2534076\ttest: 0.4460908\tbest: 0.4192492 (183)\ttotal: 383ms\tremaining: 48.3ms\n",
      "444:\tlearn: 0.2532781\ttest: 0.4461186\tbest: 0.4192492 (183)\ttotal: 384ms\tremaining: 47.4ms\n",
      "445:\tlearn: 0.2529874\ttest: 0.4461252\tbest: 0.4192492 (183)\ttotal: 384ms\tremaining: 46.5ms\n",
      "446:\tlearn: 0.2526012\ttest: 0.4462932\tbest: 0.4192492 (183)\ttotal: 385ms\tremaining: 45.6ms\n",
      "447:\tlearn: 0.2524309\ttest: 0.4461537\tbest: 0.4192492 (183)\ttotal: 385ms\tremaining: 44.7ms\n",
      "448:\tlearn: 0.2521976\ttest: 0.4462633\tbest: 0.4192492 (183)\ttotal: 386ms\tremaining: 43.8ms\n",
      "449:\tlearn: 0.2520445\ttest: 0.4462620\tbest: 0.4192492 (183)\ttotal: 386ms\tremaining: 42.9ms\n",
      "450:\tlearn: 0.2518345\ttest: 0.4465331\tbest: 0.4192492 (183)\ttotal: 387ms\tremaining: 42ms\n",
      "451:\tlearn: 0.2516716\ttest: 0.4463765\tbest: 0.4192492 (183)\ttotal: 388ms\tremaining: 41.2ms\n",
      "452:\tlearn: 0.2514796\ttest: 0.4465902\tbest: 0.4192492 (183)\ttotal: 388ms\tremaining: 40.3ms\n",
      "453:\tlearn: 0.2512765\ttest: 0.4464433\tbest: 0.4192492 (183)\ttotal: 389ms\tremaining: 39.4ms\n",
      "454:\tlearn: 0.2511470\ttest: 0.4470107\tbest: 0.4192492 (183)\ttotal: 389ms\tremaining: 38.5ms\n",
      "455:\tlearn: 0.2510190\ttest: 0.4471695\tbest: 0.4192492 (183)\ttotal: 390ms\tremaining: 37.6ms\n",
      "456:\tlearn: 0.2508457\ttest: 0.4472503\tbest: 0.4192492 (183)\ttotal: 390ms\tremaining: 36.7ms\n",
      "457:\tlearn: 0.2506650\ttest: 0.4475851\tbest: 0.4192492 (183)\ttotal: 391ms\tremaining: 35.9ms\n",
      "458:\tlearn: 0.2503378\ttest: 0.4485236\tbest: 0.4192492 (183)\ttotal: 392ms\tremaining: 35ms\n",
      "459:\tlearn: 0.2501496\ttest: 0.4484038\tbest: 0.4192492 (183)\ttotal: 392ms\tremaining: 34.1ms\n",
      "460:\tlearn: 0.2500073\ttest: 0.4486994\tbest: 0.4192492 (183)\ttotal: 393ms\tremaining: 33.2ms\n",
      "461:\tlearn: 0.2497567\ttest: 0.4487958\tbest: 0.4192492 (183)\ttotal: 393ms\tremaining: 32.4ms\n",
      "462:\tlearn: 0.2496099\ttest: 0.4487511\tbest: 0.4192492 (183)\ttotal: 394ms\tremaining: 31.5ms\n",
      "463:\tlearn: 0.2494450\ttest: 0.4490780\tbest: 0.4192492 (183)\ttotal: 394ms\tremaining: 30.6ms\n",
      "464:\tlearn: 0.2492171\ttest: 0.4491175\tbest: 0.4192492 (183)\ttotal: 395ms\tremaining: 29.7ms\n",
      "465:\tlearn: 0.2489145\ttest: 0.4487717\tbest: 0.4192492 (183)\ttotal: 396ms\tremaining: 28.9ms\n",
      "466:\tlearn: 0.2487250\ttest: 0.4489949\tbest: 0.4192492 (183)\ttotal: 396ms\tremaining: 28ms\n",
      "467:\tlearn: 0.2480987\ttest: 0.4493573\tbest: 0.4192492 (183)\ttotal: 397ms\tremaining: 27.1ms\n",
      "468:\tlearn: 0.2480435\ttest: 0.4492826\tbest: 0.4192492 (183)\ttotal: 397ms\tremaining: 26.3ms\n",
      "469:\tlearn: 0.2477731\ttest: 0.4491062\tbest: 0.4192492 (183)\ttotal: 398ms\tremaining: 25.4ms\n",
      "470:\tlearn: 0.2475487\ttest: 0.4491993\tbest: 0.4192492 (183)\ttotal: 398ms\tremaining: 24.5ms\n",
      "471:\tlearn: 0.2473237\ttest: 0.4491017\tbest: 0.4192492 (183)\ttotal: 399ms\tremaining: 23.7ms\n",
      "472:\tlearn: 0.2472187\ttest: 0.4492088\tbest: 0.4192492 (183)\ttotal: 400ms\tremaining: 22.8ms\n",
      "473:\tlearn: 0.2469208\ttest: 0.4494110\tbest: 0.4192492 (183)\ttotal: 400ms\tremaining: 22ms\n",
      "474:\tlearn: 0.2468420\ttest: 0.4496306\tbest: 0.4192492 (183)\ttotal: 401ms\tremaining: 21.1ms\n",
      "475:\tlearn: 0.2467166\ttest: 0.4499062\tbest: 0.4192492 (183)\ttotal: 401ms\tremaining: 20.2ms\n",
      "476:\tlearn: 0.2465605\ttest: 0.4499565\tbest: 0.4192492 (183)\ttotal: 402ms\tremaining: 19.4ms\n",
      "477:\tlearn: 0.2464285\ttest: 0.4502089\tbest: 0.4192492 (183)\ttotal: 403ms\tremaining: 18.5ms\n",
      "478:\tlearn: 0.2462894\ttest: 0.4503240\tbest: 0.4192492 (183)\ttotal: 403ms\tremaining: 17.7ms\n",
      "479:\tlearn: 0.2461396\ttest: 0.4506599\tbest: 0.4192492 (183)\ttotal: 404ms\tremaining: 16.8ms\n",
      "480:\tlearn: 0.2459006\ttest: 0.4506847\tbest: 0.4192492 (183)\ttotal: 405ms\tremaining: 16ms\n",
      "481:\tlearn: 0.2457821\ttest: 0.4507483\tbest: 0.4192492 (183)\ttotal: 405ms\tremaining: 15.1ms\n",
      "482:\tlearn: 0.2456200\ttest: 0.4506742\tbest: 0.4192492 (183)\ttotal: 406ms\tremaining: 14.3ms\n"
     ]
    },
    {
     "name": "stdout",
     "output_type": "stream",
     "text": [
      "483:\tlearn: 0.2453501\ttest: 0.4503693\tbest: 0.4192492 (183)\ttotal: 407ms\tremaining: 13.5ms\n",
      "484:\tlearn: 0.2450554\ttest: 0.4503948\tbest: 0.4192492 (183)\ttotal: 408ms\tremaining: 12.6ms\n",
      "485:\tlearn: 0.2449552\ttest: 0.4504117\tbest: 0.4192492 (183)\ttotal: 409ms\tremaining: 11.8ms\n",
      "486:\tlearn: 0.2448864\ttest: 0.4504352\tbest: 0.4192492 (183)\ttotal: 410ms\tremaining: 10.9ms\n",
      "487:\tlearn: 0.2447103\ttest: 0.4503720\tbest: 0.4192492 (183)\ttotal: 411ms\tremaining: 10.1ms\n",
      "488:\tlearn: 0.2446354\ttest: 0.4505668\tbest: 0.4192492 (183)\ttotal: 412ms\tremaining: 9.27ms\n",
      "489:\tlearn: 0.2444333\ttest: 0.4507412\tbest: 0.4192492 (183)\ttotal: 413ms\tremaining: 8.43ms\n",
      "490:\tlearn: 0.2442303\ttest: 0.4506380\tbest: 0.4192492 (183)\ttotal: 415ms\tremaining: 7.6ms\n",
      "491:\tlearn: 0.2439901\ttest: 0.4512449\tbest: 0.4192492 (183)\ttotal: 415ms\tremaining: 6.75ms\n",
      "492:\tlearn: 0.2437812\ttest: 0.4510762\tbest: 0.4192492 (183)\ttotal: 417ms\tremaining: 5.92ms\n",
      "493:\tlearn: 0.2436770\ttest: 0.4509929\tbest: 0.4192492 (183)\ttotal: 418ms\tremaining: 5.07ms\n",
      "494:\tlearn: 0.2434691\ttest: 0.4510502\tbest: 0.4192492 (183)\ttotal: 419ms\tremaining: 4.23ms\n",
      "495:\tlearn: 0.2432716\ttest: 0.4509736\tbest: 0.4192492 (183)\ttotal: 420ms\tremaining: 3.38ms\n",
      "496:\tlearn: 0.2430424\ttest: 0.4513324\tbest: 0.4192492 (183)\ttotal: 421ms\tremaining: 2.54ms\n",
      "497:\tlearn: 0.2428356\ttest: 0.4513809\tbest: 0.4192492 (183)\ttotal: 422ms\tremaining: 1.69ms\n",
      "498:\tlearn: 0.2426335\ttest: 0.4512291\tbest: 0.4192492 (183)\ttotal: 423ms\tremaining: 847us\n",
      "499:\tlearn: 0.2425139\ttest: 0.4512830\tbest: 0.4192492 (183)\ttotal: 424ms\tremaining: 0us\n",
      "\n",
      "bestTest = 0.4192492344\n",
      "bestIteration = 183\n",
      "\n",
      "Shrink model to first 184 iterations.\n",
      "CPU times: user 3.26 s, sys: 189 ms, total: 3.45 s\n",
      "Wall time: 2min 6s\n"
     ]
    }
   ],
   "source": [
    "%%time\n",
    "\n",
    "search = GridSearchCV(\n",
    "    estimator=CatBoostClassifier(iterations=500), \n",
    "    param_grid=params, cv=5,\n",
    "    verbose=True, \n",
    "    n_jobs=-1\n",
    ").fit(x_train, y_train, eval_set=(x_test, y_test))"
   ]
  },
  {
   "cell_type": "code",
   "execution_count": 65,
   "metadata": {},
   "outputs": [
    {
     "data": {
      "text/plain": [
       "{'border_count': 10, 'depth': 4, 'l2_leaf_reg': 5, 'learning_rate': 0.05}"
      ]
     },
     "execution_count": 65,
     "metadata": {},
     "output_type": "execute_result"
    }
   ],
   "source": [
    "search.best_params_"
   ]
  },
  {
   "cell_type": "markdown",
   "metadata": {},
   "source": [
    "- Get best model"
   ]
  },
  {
   "cell_type": "code",
   "execution_count": 66,
   "metadata": {},
   "outputs": [],
   "source": [
    "cat_model = search.best_estimator_"
   ]
  },
  {
   "cell_type": "code",
   "execution_count": 67,
   "metadata": {},
   "outputs": [
    {
     "data": {
      "text/plain": [
       "{'learn': {'Logloss': 0.24251392564246113},\n",
       " 'validation': {'Logloss': 0.41924923437701067}}"
      ]
     },
     "execution_count": 67,
     "metadata": {},
     "output_type": "execute_result"
    }
   ],
   "source": [
    "cat_model.best_score_"
   ]
  },
  {
   "cell_type": "markdown",
   "metadata": {},
   "source": [
    "- Display the report"
   ]
  },
  {
   "cell_type": "code",
   "execution_count": 68,
   "metadata": {
    "scrolled": false
   },
   "outputs": [
    {
     "name": "stdout",
     "output_type": "stream",
     "text": [
      "              precision    recall  f1-score   support\n",
      "\n",
      "           0       0.80      0.92      0.86       157\n",
      "           1       0.86      0.67      0.75       111\n",
      "\n",
      "    accuracy                           0.82       268\n",
      "   macro avg       0.83      0.80      0.80       268\n",
      "weighted avg       0.82      0.82      0.81       268\n",
      "\n"
     ]
    }
   ],
   "source": [
    "y_hat = cat_model.predict(x_test)\n",
    "print(classification_report(y_test, y_hat))"
   ]
  },
  {
   "cell_type": "markdown",
   "metadata": {},
   "source": [
    "- Plot ROC curve"
   ]
  },
  {
   "cell_type": "code",
   "execution_count": 69,
   "metadata": {
    "scrolled": false
   },
   "outputs": [
    {
     "data": {
      "image/png": "[encoded data removed]",
      "text/plain": [
       "<Figure size 1152x576 with 1 Axes>"
      ]
     },
     "metadata": {
      "needs_background": "light"
     },
     "output_type": "display_data"
    }
   ],
   "source": [
    "(fpr, tpr, thresholds) = get_roc_curve(model=cat_model, data=Pool(x_train, y_train), plot=True)"
   ]
  },
  {
   "cell_type": "markdown",
   "metadata": {},
   "source": [
    "- Submite"
   ]
  },
  {
   "cell_type": "code",
   "execution_count": 70,
   "metadata": {},
   "outputs": [],
   "source": [
    "predictions = list(log_reg.predict(prep_test))\n",
    "\n",
    "output = pd.DataFrame({\n",
    "    \n",
    "    \"PassengerId\":test.PassengerId, \n",
    "    \"Survived\":predictions\n",
    "})\n",
    "\n",
    "output.to_csv(\"submission.csv\", index = False)"
   ]
  },
  {
   "cell_type": "code",
   "execution_count": null,
   "metadata": {},
   "outputs": [],
   "source": []
  }
 ],
 "metadata": {
  "kernelspec": {
   "display_name": "Python 3",
   "language": "python",
   "name": "python3"
  },
  "language_info": {
   "codemirror_mode": {
    "name": "ipython",
    "version": 3
   },
   "file_extension": ".py",
   "mimetype": "text/x-python",
   "name": "python",
   "nbconvert_exporter": "python",
   "pygments_lexer": "ipython3",
   "version": "3.7.9"
  }
 },
 "nbformat": 4,
 "nbformat_minor": 4
}